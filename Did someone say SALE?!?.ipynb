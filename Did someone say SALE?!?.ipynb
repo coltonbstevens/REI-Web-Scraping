{
 "cells": [
  {
   "cell_type": "markdown",
   "id": "400e9e87",
   "metadata": {},
   "source": [
    "# Did someone say SALE?!?\n",
    "## *Web scraping and analyzing REI's deals*"
   ]
  },
  {
   "cell_type": "markdown",
   "id": "1f3b6f77",
   "metadata": {},
   "source": [
    "![Home](Photos/Home.png)"
   ]
  },
  {
   "cell_type": "markdown",
   "id": "b48e7b83",
   "metadata": {},
   "source": [
    "Have you ever wondered about the products that go on sale at REI?\n",
    "\n",
    "Whether men's and women's items are discounted differenty? <br>\n",
    "If reviews are related to product discounts? <br>\n",
    "Which brands have the steepest markdowns?\n",
    "\n",
    "Maybe you're helplessly drawn to the A/B tester's bright red <span style=\"color:red\">Deals</span> button and want to find the second-cheapest Patagonia product with at least 4.9 stars to give your mom for her birthday.\n",
    "\n",
    "Perhaps you just want to learn something about web scraping, data visualization, and hypothesis testing in Python.\n",
    "\n",
    "Either way, you're in luck!"
   ]
  },
  {
   "cell_type": "markdown",
   "id": "d30cc6dc",
   "metadata": {},
   "source": [
    "## Goals:"
   ]
  },
  {
   "cell_type": "markdown",
   "id": "81c78d0b",
   "metadata": {},
   "source": [
    "- **Scrape every discounted product from https://www.rei.com**\n",
    "- **Return a structured pandas dataframe**\n",
    "- **Visualize the data**\n",
    "- **Perform some preliminary hypothesis tests**"
   ]
  },
  {
   "cell_type": "markdown",
   "id": "aade696e",
   "metadata": {},
   "source": [
    "This notebook assumes some elementary exposure to Python, but it should be beginner friendly!"
   ]
  },
  {
   "cell_type": "markdown",
   "id": "ff403636",
   "metadata": {},
   "source": [
    "## Packages and libraries"
   ]
  },
  {
   "cell_type": "markdown",
   "id": "7f406061",
   "metadata": {},
   "source": [
    "We will use `requests` and `BeautifulSoup` to download and parse the data from REI's website.\n",
    "\n",
    "We will use `pandas`, `matplotlib`, and `seaborn` to organize and visualize the data.\n",
    "\n",
    "You can install `BeautifulSoup` in a Jupyter Notebook by typing `conda install BeautifulSoup4`.\n",
    "\n",
    "You can also use `pip install BeautifulSoup4` from the command line.\n",
    "\n",
    "You can install the other packages in the same manner.\n",
    "\n",
    "Once all the packages and libraries are installed, we import them like so:"
   ]
  },
  {
   "cell_type": "code",
   "execution_count": 1,
   "id": "81d186a4",
   "metadata": {},
   "outputs": [],
   "source": [
    "import pandas as pd\n",
    "import numpy as np\n",
    "import requests\n",
    "from bs4 import BeautifulSoup\n",
    "import seaborn as sns\n",
    "import matplotlib.pyplot as plt\n",
    "%matplotlib inline"
   ]
  },
  {
   "cell_type": "markdown",
   "id": "6250003f",
   "metadata": {},
   "source": [
    "## Load the website"
   ]
  },
  {
   "cell_type": "markdown",
   "id": "0ae95746",
   "metadata": {},
   "source": [
    "To extract the data we need, we need the right URL. The Deals section of the REI website is found here: https://www.rei.com/h/deals."
   ]
  },
  {
   "attachments": {},
   "cell_type": "markdown",
   "id": "2f531ac9",
   "metadata": {},
   "source": [
    "![Categories](Photos/Categories.png)"
   ]
  },
  {
   "cell_type": "markdown",
   "id": "ea212e64",
   "metadata": {},
   "source": [
    "Where to start? It appears that we have to choose between \"top deals\", deals by category, brand, or another clasification."
   ]
  },
  {
   "cell_type": "markdown",
   "id": "8bd1bcf5",
   "metadata": {},
   "source": [
    "Let's begin with a single category (climbing, of course). Here is the URL for the climbing category, with 90 products per page selected: https://www.rei.com/c/climbing/f/scd-deals?pagesize=90."
   ]
  },
  {
   "cell_type": "markdown",
   "id": "153a9db3",
   "metadata": {},
   "source": [
    "Now we need to inspect the page in order to access the HTML structure beneath. We can do this by right-clicking anywhere on the page and then clicking 'Inspect', or by selecting View -> Developer -> Developer Tools on Google Chrome. The process is similar on other browsers."
   ]
  },
  {
   "attachments": {},
   "cell_type": "markdown",
   "id": "a4e63ec2",
   "metadata": {},
   "source": [
    "![HTML](Photos/HTML.png)"
   ]
  },
  {
   "cell_type": "markdown",
   "id": "b381c182",
   "metadata": {},
   "source": [
    "There should now be a sidebar with a lot of information."
   ]
  },
  {
   "cell_type": "markdown",
   "id": "d2393a7d",
   "metadata": {},
   "source": [
    "## Scrape data from the HTML"
   ]
  },
  {
   "cell_type": "markdown",
   "id": "aff3c2a1",
   "metadata": {},
   "source": [
    "We will use the libraries `Requests` and `Beautiful Soup` to load our URL, parse the underlying HTML, and extract the data we need."
   ]
  },
  {
   "cell_type": "code",
   "execution_count": 2,
   "id": "2dce6d28",
   "metadata": {},
   "outputs": [],
   "source": [
    "# Load the URL\n",
    "url = 'https://www.rei.com/c/climbing/f/scd-deals?pagesize=90'"
   ]
  },
  {
   "cell_type": "code",
   "execution_count": 3,
   "id": "55242d52",
   "metadata": {},
   "outputs": [
    {
     "data": {
      "text/plain": [
       "<bound method Response.raise_for_status of <Response [200]>>"
      ]
     },
     "execution_count": 3,
     "metadata": {},
     "output_type": "execute_result"
    }
   ],
   "source": [
    "# Download the page content from the URL\n",
    "res = requests.get(url)\n",
    "res.raise_for_status"
   ]
  },
  {
   "cell_type": "markdown",
   "id": "4fd4157e",
   "metadata": {},
   "source": [
    "Response [200] means our request was fulfilled."
   ]
  },
  {
   "cell_type": "code",
   "execution_count": 4,
   "id": "87a48548",
   "metadata": {},
   "outputs": [],
   "source": [
    "# Parse the web page into a Beautiful Soup object\n",
    "soup = BeautifulSoup(res.text,'html.parser')"
   ]
  },
  {
   "attachments": {},
   "cell_type": "markdown",
   "id": "abe7b6da",
   "metadata": {},
   "source": [
    "![Box](Photos/Box.png)"
   ]
  },
  {
   "cell_type": "markdown",
   "id": "25f2a099",
   "metadata": {},
   "source": [
    "If we explore the website a little, we discover that each product is stored under a `li` parent tag with the attribute `class=\"pPe0GNuagvmEFURs1Q_vm\"`.\n",
    "\n",
    "The tag is opened with `<li ...>` and closed with `</li>`. Inside the tag is all the information for the given product, including other tags with the item name, brand, price, etc.\n",
    "\n",
    "`BeautifulSoup` has two useful methods for finding tags like these. Use `.find()` to find the first tag fitting given criteria, and `.findall()` to return a list of all tags fitting the criteria.\n",
    "\n",
    "Here we want every product on the page, so we use `.find_all()` to search for `li` tags with `class=\"pPe0GNuagvmEFURs1Q_vm\"`."
   ]
  },
  {
   "cell_type": "code",
   "execution_count": 5,
   "id": "515926ec",
   "metadata": {},
   "outputs": [],
   "source": [
    "# Get all the products with the given tag and class\n",
    "products = soup.find_all('li', attrs = {'class':'pPe0GNuagvmEFURs1Q_vm'})"
   ]
  },
  {
   "cell_type": "code",
   "execution_count": 6,
   "id": "598b16f1",
   "metadata": {},
   "outputs": [
    {
     "data": {
      "text/plain": [
       "46"
      ]
     },
     "execution_count": 6,
     "metadata": {},
     "output_type": "execute_result"
    }
   ],
   "source": [
    "# View the number of products on this page\n",
    "len(products)"
   ]
  },
  {
   "cell_type": "markdown",
   "id": "e752c5ba",
   "metadata": {},
   "source": [
    "## Extract data from each product"
   ]
  },
  {
   "cell_type": "markdown",
   "id": "69a561b7",
   "metadata": {},
   "source": [
    "Now that we have a list of products, what information do we need from each product? For starters:\n",
    "- Name\n",
    "- Brand\n",
    "- Sale price\n",
    "- Original price\n",
    "\n",
    "It could also be interesting to look at:\n",
    "- Gender category\n",
    "- Average reviews\n",
    "- The number of carousel images\n",
    "\n",
    "We will extract this information and store the results in a pandas dataframe."
   ]
  },
  {
   "cell_type": "markdown",
   "id": "3bc28fbf",
   "metadata": {},
   "source": [
    "### Product names"
   ]
  },
  {
   "cell_type": "markdown",
   "id": "063891fb",
   "metadata": {},
   "source": [
    "Let's begin with product names. Product names are stored in a `span` tag with the attribute `data-ui=\"product-title\"`. Let's loop through each product and store its name in a list, which we will add to our dataframe later. We access the text contained in each tag with the `.string` attribute."
   ]
  },
  {
   "cell_type": "code",
   "execution_count": 7,
   "id": "93718d43",
   "metadata": {},
   "outputs": [],
   "source": [
    "# Scrape the product names\n",
    "product_names = []\n",
    "for product in products:\n",
    "    product_names.append(product.find('span', attrs = {'data-ui':'product-title'}).string)"
   ]
  },
  {
   "cell_type": "code",
   "execution_count": 8,
   "id": "ca90b629",
   "metadata": {},
   "outputs": [
    {
     "data": {
      "text/plain": [
       "46"
      ]
     },
     "execution_count": 8,
     "metadata": {},
     "output_type": "execute_result"
    }
   ],
   "source": [
    "# Check the number of product names (it should be the same as the number of products)\n",
    "len(product_names)"
   ]
  },
  {
   "cell_type": "code",
   "execution_count": 9,
   "id": "067f8365",
   "metadata": {},
   "outputs": [
    {
     "data": {
      "text/plain": [
       "[\"Zenit Climbing Shoes - Men's\",\n",
       " 'ECO Camo Chalk Bag',\n",
       " 'Zone LV Climbing Shoes',\n",
       " \"Orion Harness - Men's\",\n",
       " \"Solaris Harness - Women's\"]"
      ]
     },
     "execution_count": 9,
     "metadata": {},
     "output_type": "execute_result"
    }
   ],
   "source": [
    "# Look at the first 5 names\n",
    "product_names[0:5]"
   ]
  },
  {
   "cell_type": "markdown",
   "id": "05b374f3",
   "metadata": {},
   "source": [
    "### Product brands"
   ]
  },
  {
   "cell_type": "markdown",
   "id": "9f2a446e",
   "metadata": {},
   "source": [
    "Brands are stored in a `span` tag with the attribute `data-ui=\"product-brand\"`. Let's repeat the previous process to get a list of brands."
   ]
  },
  {
   "cell_type": "code",
   "execution_count": 10,
   "id": "eafd8960",
   "metadata": {},
   "outputs": [],
   "source": [
    "# Scrape the brand names\n",
    "brand_names = []\n",
    "for product in products:\n",
    "    brand_names.append(product.find('span', attrs = {'data-ui':'product-brand'}).string)"
   ]
  },
  {
   "cell_type": "code",
   "execution_count": 11,
   "id": "0822836d",
   "metadata": {},
   "outputs": [
    {
     "name": "stdout",
     "output_type": "stream",
     "text": [
      "46\n"
     ]
    },
    {
     "data": {
      "text/plain": [
       "['La Sportiva', 'So iLL', 'Black Diamond', 'Edelrid', 'Edelrid']"
      ]
     },
     "execution_count": 11,
     "metadata": {},
     "output_type": "execute_result"
    }
   ],
   "source": [
    "# Check the number of sale prices and look at the first 5\n",
    "print(len(brand_names))\n",
    "brand_names[0:5]"
   ]
  },
  {
   "cell_type": "markdown",
   "id": "378280ec",
   "metadata": {},
   "source": [
    "### Sale prices"
   ]
  },
  {
   "cell_type": "markdown",
   "id": "ebddcc15",
   "metadata": {},
   "source": [
    "Sale prices are stored in a `span` tag with the attribute `data-ui=\"sale-price\"`. Let's repeat the previous process to get a list of sale prices. We also remove each \"\\\\$\"."
   ]
  },
  {
   "cell_type": "code",
   "execution_count": 12,
   "id": "1ba6d289",
   "metadata": {},
   "outputs": [],
   "source": [
    "# Scrape the sale prices\n",
    "sale_prices = []\n",
    "for product in products:\n",
    "    sale_prices.append(product.find('span', attrs = {'data-ui':'sale-price'}).string.strip(\"$\"))"
   ]
  },
  {
   "cell_type": "code",
   "execution_count": 13,
   "id": "209adc16",
   "metadata": {},
   "outputs": [
    {
     "name": "stdout",
     "output_type": "stream",
     "text": [
      "46\n"
     ]
    },
    {
     "data": {
      "text/plain": [
       "['65.83', '16.93', '73.73', '64.93', '64.93']"
      ]
     },
     "execution_count": 13,
     "metadata": {},
     "output_type": "execute_result"
    }
   ],
   "source": [
    "# Check the number of sale prices and look at the first 5\n",
    "print(len(sale_prices))\n",
    "sale_prices[0:5]"
   ]
  },
  {
   "cell_type": "markdown",
   "id": "2c0885f6",
   "metadata": {},
   "source": [
    "### Original prices"
   ]
  },
  {
   "cell_type": "markdown",
   "id": "bd39c5b9",
   "metadata": {},
   "source": [
    "Must original prices are stored in a `span` tag with the attribute `data-ui=\"compare-at-price\"`. But for whatever reason, some are stored in a different `span` tag with the attribute `data-ui=\"full-price\"`."
   ]
  },
  {
   "cell_type": "code",
   "execution_count": 14,
   "id": "1a752db1",
   "metadata": {},
   "outputs": [],
   "source": [
    "# Scrape the original prices\n",
    "original_prices = []\n",
    "for product in products:\n",
    "    original_prices.append(product.find('span', attrs = {'data-ui':'compare-at-price'}))"
   ]
  },
  {
   "cell_type": "markdown",
   "id": "ef5774c5",
   "metadata": {},
   "source": [
    "When we attemp to access the `.string` attribute of the nonexistent tags, we get an error."
   ]
  },
  {
   "cell_type": "code",
   "execution_count": 15,
   "id": "bb625de4",
   "metadata": {},
   "outputs": [
    {
     "data": {
      "text/plain": [
       "[<span data-ui=\"compare-at-price\">$165.00</span>,\n",
       " <span data-ui=\"compare-at-price\">$34.00</span>,\n",
       " <span data-ui=\"compare-at-price\">$139.95</span>,\n",
       " <span data-ui=\"compare-at-price\">$129.95</span>,\n",
       " <span data-ui=\"compare-at-price\">$129.95</span>,\n",
       " None,\n",
       " <span data-ui=\"compare-at-price\">$169.95</span>,\n",
       " None,\n",
       " <span data-ui=\"compare-at-price\">$120.00</span>,\n",
       " <span data-ui=\"compare-at-price\">$165.00</span>,\n",
       " <span data-ui=\"compare-at-price\">$69.95</span>,\n",
       " <span data-ui=\"compare-at-price\">$699.00</span>,\n",
       " <span data-ui=\"compare-at-price\">$33.95</span>,\n",
       " <span data-ui=\"compare-at-price\">$179.95</span>,\n",
       " <span data-ui=\"compare-at-price\">$44.00</span>]"
      ]
     },
     "execution_count": 15,
     "metadata": {},
     "output_type": "execute_result"
    }
   ],
   "source": [
    "# View the first 15 original prices\n",
    "original_prices[0:15]"
   ]
  },
  {
   "cell_type": "markdown",
   "id": "55b9cc37",
   "metadata": {},
   "source": [
    "If we do a little digging, we discover that both of the prices we want have tags named `span` and \"\\\\$\" in the text. The only problem is that the sale price also matches these conditions. Since the sale price always comes before the original price, we can use `find_all` with our conditions and select the second text element (the first being the sale price)."
   ]
  },
  {
   "cell_type": "code",
   "execution_count": 16,
   "id": "28444c87",
   "metadata": {},
   "outputs": [],
   "source": [
    "# Scrape the original prices, searching for tags names 'span' with text containing '$'\n",
    "original_prices = []\n",
    "for product in products:\n",
    "    original_prices.append(product.find_all(lambda tag:tag.name==\"span\" and \"$\" in tag.text)[1].text)"
   ]
  },
  {
   "cell_type": "code",
   "execution_count": 17,
   "id": "3b11b045",
   "metadata": {},
   "outputs": [
    {
     "data": {
      "text/plain": [
       "['compared to \\xa0$165.00',\n",
       " 'compared to \\xa0$34.00',\n",
       " 'compared to \\xa0$139.95',\n",
       " 'compared to \\xa0$129.95',\n",
       " 'compared to \\xa0$129.95',\n",
       " ' - $84.95',\n",
       " 'compared to \\xa0$169.95',\n",
       " ' - $139.00',\n",
       " 'compared to \\xa0$120.00',\n",
       " 'compared to \\xa0$165.00',\n",
       " 'compared to \\xa0$69.95',\n",
       " 'compared to \\xa0$699.00',\n",
       " 'compared to \\xa0$33.95',\n",
       " 'compared to \\xa0$179.95',\n",
       " 'compared to \\xa0$44.00']"
      ]
     },
     "execution_count": 17,
     "metadata": {},
     "output_type": "execute_result"
    }
   ],
   "source": [
    "# View the first 15 original prices\n",
    "original_prices[0:15]"
   ]
  },
  {
   "cell_type": "markdown",
   "id": "7b3a2727",
   "metadata": {},
   "source": [
    "That looks better! The `None` elements from the previous list are replaced with original prices. Since the formats of the strings differ, we need to extract only the part after \"\\\\$\" (the price). We can do this with a simple list comprehension."
   ]
  },
  {
   "cell_type": "code",
   "execution_count": 18,
   "id": "14b238ff",
   "metadata": {},
   "outputs": [],
   "source": [
    "# Return only the price for each string in the list\n",
    "original_prices = [s.split('$')[1] for s in original_prices]"
   ]
  },
  {
   "cell_type": "code",
   "execution_count": 19,
   "id": "eea6da68",
   "metadata": {
    "scrolled": true
   },
   "outputs": [
    {
     "data": {
      "text/plain": [
       "['165.00',\n",
       " '34.00',\n",
       " '139.95',\n",
       " '129.95',\n",
       " '129.95',\n",
       " '84.95',\n",
       " '169.95',\n",
       " '139.00',\n",
       " '120.00',\n",
       " '165.00',\n",
       " '69.95',\n",
       " '699.00',\n",
       " '33.95',\n",
       " '179.95',\n",
       " '44.00']"
      ]
     },
     "execution_count": 19,
     "metadata": {},
     "output_type": "execute_result"
    }
   ],
   "source": [
    "# View the first 15 original prices\n",
    "original_prices[0:15]"
   ]
  },
  {
   "cell_type": "markdown",
   "id": "c4bdd9e8",
   "metadata": {},
   "source": [
    "Looks great!"
   ]
  },
  {
   "cell_type": "markdown",
   "id": "86f5a925",
   "metadata": {},
   "source": [
    "### Gender"
   ]
  },
  {
   "cell_type": "markdown",
   "id": "c6070981",
   "metadata": {},
   "source": [
    "REI has a number of gender categories for their products. Each category is represented in the product name (e.g., 'Name - Women's).\n",
    "\n",
    "Let's create a new list based on `product_names` to get the gender for each product.\n",
    "\n",
    "Product names can contain more information after the \" - \" than just gender (e.g., model year or set information). We are going to categorize products into Men's, Women's, Kids', or Unisex. Later on, we will use a more comprehensive list of categories."
   ]
  },
  {
   "cell_type": "code",
   "execution_count": 20,
   "id": "2ea53252",
   "metadata": {},
   "outputs": [],
   "source": [
    "# Define REI gender categories\n",
    "categories = [\"Men's\",\"Women's\",\"Kids'\"]"
   ]
  },
  {
   "cell_type": "markdown",
   "id": "1d3c4e6d",
   "metadata": {},
   "source": [
    "We will create a list of genders by splitting product names by \" - \". We check first if multiple strings are returned (\" - \" exists in the string). If so, we return the second part if that string is one of our gender categories. If there is no match or no delimiter we return \"Unisex\"."
   ]
  },
  {
   "cell_type": "code",
   "execution_count": 21,
   "id": "27fa9dfa",
   "metadata": {},
   "outputs": [],
   "source": [
    "# Create a list of genders\n",
    "genders = [s.split(\" - \")[1] if (len(s.split(\" - \"))>1) and (s.split(\" - \")[1] in categories) else \"Unisex\" for s in product_names]"
   ]
  },
  {
   "cell_type": "code",
   "execution_count": 22,
   "id": "7989180e",
   "metadata": {},
   "outputs": [
    {
     "name": "stdout",
     "output_type": "stream",
     "text": [
      "46\n"
     ]
    },
    {
     "data": {
      "text/plain": [
       "[\"Men's\", 'Unisex', 'Unisex', \"Men's\", \"Women's\"]"
      ]
     },
     "execution_count": 22,
     "metadata": {},
     "output_type": "execute_result"
    }
   ],
   "source": [
    "# Check the number of gender categories and look at the first 5\n",
    "print(len(genders))\n",
    "genders[0:5]"
   ]
  },
  {
   "cell_type": "markdown",
   "id": "0e5a602f",
   "metadata": {},
   "source": [
    "### Average reviews"
   ]
  },
  {
   "cell_type": "markdown",
   "id": "e8cc274b",
   "metadata": {},
   "source": [
    "Review information is stored in a `span` tag with the attribute `class=\"cdr-rating__caption-sr_11-1-0\"`."
   ]
  },
  {
   "cell_type": "code",
   "execution_count": 23,
   "id": "bd5af980",
   "metadata": {},
   "outputs": [],
   "source": [
    "# Scrape reviews\n",
    "reviews = []\n",
    "for product in products:\n",
    "    reviews.append(product.find('span', attrs = {'class':'cdr-rating__caption-sr_11-1-0'}).string)"
   ]
  },
  {
   "cell_type": "code",
   "execution_count": 24,
   "id": "08173bb1",
   "metadata": {},
   "outputs": [
    {
     "name": "stdout",
     "output_type": "stream",
     "text": [
      "46\n"
     ]
    },
    {
     "data": {
      "text/plain": [
       "['19 reviews with an average rating of 4.2 out of 5 stars',\n",
       " '0 reviews',\n",
       " '32 reviews with an average rating of 3.5 out of 5 stars',\n",
       " '0 reviews',\n",
       " '4 reviews with an average rating of 4.3 out of 5 stars']"
      ]
     },
     "execution_count": 24,
     "metadata": {},
     "output_type": "execute_result"
    }
   ],
   "source": [
    "# Check the number of reviews and look at the first 5\n",
    "print(len(reviews))\n",
    "reviews[0:5]"
   ]
  },
  {
   "cell_type": "markdown",
   "id": "f36ff47b",
   "metadata": {},
   "source": [
    "Note that our results recognize that some products have no reviews. Sweet!"
   ]
  },
  {
   "cell_type": "markdown",
   "id": "2d128d33",
   "metadata": {},
   "source": [
    "Each string contains two pieces of information, the number of reviews and the average rating. Let's split `reviews` into two lists, `reviews_number` and `reviews_rating`."
   ]
  },
  {
   "cell_type": "code",
   "execution_count": 25,
   "id": "b20f4032",
   "metadata": {},
   "outputs": [],
   "source": [
    "# Create two new lists by splitting each string in `reviews`\n",
    "reviews_number,reviews_rating = zip(*(s.split(\" reviews\") for s in reviews))"
   ]
  },
  {
   "cell_type": "code",
   "execution_count": 26,
   "id": "390ae06c",
   "metadata": {},
   "outputs": [
    {
     "name": "stdout",
     "output_type": "stream",
     "text": [
      "46\n"
     ]
    },
    {
     "data": {
      "text/plain": [
       "('19', '0', '32', '0', '4')"
      ]
     },
     "execution_count": 26,
     "metadata": {},
     "output_type": "execute_result"
    }
   ],
   "source": [
    "# Check the number of review counts and look at the first 5\n",
    "print(len(reviews_number))\n",
    "reviews_number[0:5]"
   ]
  },
  {
   "cell_type": "markdown",
   "id": "91c82a24",
   "metadata": {},
   "source": [
    "For `reviews_rating`, we need to strip everything except the rating number, which occurs at the index `s[27:30]`."
   ]
  },
  {
   "cell_type": "code",
   "execution_count": 27,
   "id": "291a00f5",
   "metadata": {},
   "outputs": [],
   "source": [
    "reviews_rating = [s[27:30] for s in reviews_rating]"
   ]
  },
  {
   "cell_type": "code",
   "execution_count": 28,
   "id": "73232964",
   "metadata": {},
   "outputs": [
    {
     "name": "stdout",
     "output_type": "stream",
     "text": [
      "46\n"
     ]
    },
    {
     "data": {
      "text/plain": [
       "['4.2', '', '3.5', '', '4.3']"
      ]
     },
     "execution_count": 28,
     "metadata": {},
     "output_type": "execute_result"
    }
   ],
   "source": [
    "# Check the number of review counts and look at the first 5\n",
    "# Products with no reviews should have a rating of ''\n",
    "print(len(reviews_rating))\n",
    "reviews_rating[0:5]"
   ]
  },
  {
   "cell_type": "markdown",
   "id": "380193cc",
   "metadata": {},
   "source": [
    "###  Number of carousel images"
   ]
  },
  {
   "cell_type": "markdown",
   "id": "6dbf4b01",
   "metadata": {},
   "source": [
    "Is the number of images displayed per product related to its discount? Let's see!"
   ]
  },
  {
   "cell_type": "markdown",
   "id": "402f4a53",
   "metadata": {},
   "source": [
    "Each product has a certain number of associated images that the viewer can scroll through in a carousel. Each of those images is contained in a `li` tag. There are no other `li` tags within each product. We can count the number of images by counting the number of `li` tags in each product."
   ]
  },
  {
   "cell_type": "code",
   "execution_count": 29,
   "id": "907b9efe",
   "metadata": {},
   "outputs": [],
   "source": [
    "# Define a function to count `li` tags\n",
    "def count_images(product):\n",
    "    \"\"\"Returns the number of carousel images of a product on REI's website\"\"\"\n",
    "    temp = product.find_all('li')\n",
    "    number = len(temp)\n",
    "    return number"
   ]
  },
  {
   "cell_type": "code",
   "execution_count": 30,
   "id": "8cec550d",
   "metadata": {},
   "outputs": [],
   "source": [
    "# Count the number of carousel images for each product\n",
    "number_images = []\n",
    "for product in products:\n",
    "    number_images.append(count_images(product))"
   ]
  },
  {
   "cell_type": "code",
   "execution_count": 31,
   "id": "979436c1",
   "metadata": {},
   "outputs": [
    {
     "name": "stdout",
     "output_type": "stream",
     "text": [
      "46\n"
     ]
    },
    {
     "data": {
      "text/plain": [
       "[6, 11, 3, 1, 2, 1, 6, 6, 6, 6, 1, 2, 1, 5, 7]"
      ]
     },
     "execution_count": 31,
     "metadata": {},
     "output_type": "execute_result"
    }
   ],
   "source": [
    "# Check the number of counts and look at the first 15\n",
    "print(len(number_images))\n",
    "number_images[0:15]"
   ]
  },
  {
   "cell_type": "markdown",
   "id": "796172d4",
   "metadata": {},
   "source": [
    "### Create a dataframe"
   ]
  },
  {
   "cell_type": "markdown",
   "id": "627cc4fd",
   "metadata": {},
   "source": [
    "Let's put it together! We can unite all of our lists into one pandas dataframe."
   ]
  },
  {
   "cell_type": "code",
   "execution_count": 32,
   "id": "faed3ea5",
   "metadata": {},
   "outputs": [],
   "source": [
    "# Create a dataframe with our lists\n",
    "climbing_deals = pd.DataFrame(list(zip(product_names,brand_names,genders,\n",
    "                                       sale_prices,original_prices,reviews_number,\n",
    "                                       reviews_rating,number_images)),\n",
    "                              columns = ['product_name','brand_name','gender_category',\n",
    "                                         'sale_price','original_price','number_reviews',\n",
    "                                         'reviews_rating', 'number_images'])"
   ]
  },
  {
   "cell_type": "code",
   "execution_count": 33,
   "id": "7cd6e2e8",
   "metadata": {
    "scrolled": true
   },
   "outputs": [
    {
     "data": {
      "text/html": [
       "<div>\n",
       "<style scoped>\n",
       "    .dataframe tbody tr th:only-of-type {\n",
       "        vertical-align: middle;\n",
       "    }\n",
       "\n",
       "    .dataframe tbody tr th {\n",
       "        vertical-align: top;\n",
       "    }\n",
       "\n",
       "    .dataframe thead th {\n",
       "        text-align: right;\n",
       "    }\n",
       "</style>\n",
       "<table border=\"1\" class=\"dataframe\">\n",
       "  <thead>\n",
       "    <tr style=\"text-align: right;\">\n",
       "      <th></th>\n",
       "      <th>product_name</th>\n",
       "      <th>brand_name</th>\n",
       "      <th>gender_category</th>\n",
       "      <th>sale_price</th>\n",
       "      <th>original_price</th>\n",
       "      <th>number_reviews</th>\n",
       "      <th>reviews_rating</th>\n",
       "      <th>number_images</th>\n",
       "    </tr>\n",
       "  </thead>\n",
       "  <tbody>\n",
       "    <tr>\n",
       "      <th>0</th>\n",
       "      <td>Zenit Climbing Shoes - Men's</td>\n",
       "      <td>La Sportiva</td>\n",
       "      <td>Men's</td>\n",
       "      <td>65.83</td>\n",
       "      <td>165.00</td>\n",
       "      <td>19</td>\n",
       "      <td>4.2</td>\n",
       "      <td>6</td>\n",
       "    </tr>\n",
       "    <tr>\n",
       "      <th>1</th>\n",
       "      <td>ECO Camo Chalk Bag</td>\n",
       "      <td>So iLL</td>\n",
       "      <td>Unisex</td>\n",
       "      <td>16.93</td>\n",
       "      <td>34.00</td>\n",
       "      <td>0</td>\n",
       "      <td></td>\n",
       "      <td>11</td>\n",
       "    </tr>\n",
       "    <tr>\n",
       "      <th>2</th>\n",
       "      <td>Zone LV Climbing Shoes</td>\n",
       "      <td>Black Diamond</td>\n",
       "      <td>Unisex</td>\n",
       "      <td>73.73</td>\n",
       "      <td>139.95</td>\n",
       "      <td>32</td>\n",
       "      <td>3.5</td>\n",
       "      <td>3</td>\n",
       "    </tr>\n",
       "    <tr>\n",
       "      <th>3</th>\n",
       "      <td>Orion Harness - Men's</td>\n",
       "      <td>Edelrid</td>\n",
       "      <td>Men's</td>\n",
       "      <td>64.93</td>\n",
       "      <td>129.95</td>\n",
       "      <td>0</td>\n",
       "      <td></td>\n",
       "      <td>1</td>\n",
       "    </tr>\n",
       "    <tr>\n",
       "      <th>4</th>\n",
       "      <td>Solaris Harness - Women's</td>\n",
       "      <td>Edelrid</td>\n",
       "      <td>Women's</td>\n",
       "      <td>64.93</td>\n",
       "      <td>129.95</td>\n",
       "      <td>4</td>\n",
       "      <td>4.3</td>\n",
       "      <td>2</td>\n",
       "    </tr>\n",
       "  </tbody>\n",
       "</table>\n",
       "</div>"
      ],
      "text/plain": [
       "                   product_name     brand_name gender_category sale_price  \\\n",
       "0  Zenit Climbing Shoes - Men's    La Sportiva           Men's      65.83   \n",
       "1            ECO Camo Chalk Bag         So iLL          Unisex      16.93   \n",
       "2        Zone LV Climbing Shoes  Black Diamond          Unisex      73.73   \n",
       "3         Orion Harness - Men's        Edelrid           Men's      64.93   \n",
       "4     Solaris Harness - Women's        Edelrid         Women's      64.93   \n",
       "\n",
       "  original_price number_reviews reviews_rating  number_images  \n",
       "0         165.00             19            4.2              6  \n",
       "1          34.00              0                            11  \n",
       "2         139.95             32            3.5              3  \n",
       "3         129.95              0                             1  \n",
       "4         129.95              4            4.3              2  "
      ]
     },
     "execution_count": 33,
     "metadata": {},
     "output_type": "execute_result"
    }
   ],
   "source": [
    "# View the top 5 rows\n",
    "climbing_deals.head()"
   ]
  },
  {
   "cell_type": "markdown",
   "id": "ada41a25",
   "metadata": {},
   "source": [
    "Cool!"
   ]
  },
  {
   "cell_type": "markdown",
   "id": "dcbac577",
   "metadata": {},
   "source": [
    "## Scaling the process for all discounted products"
   ]
  },
  {
   "cell_type": "markdown",
   "id": "03476cf9",
   "metadata": {},
   "source": [
    "So far, we have scraped information for discounted items in the climbing category and created a structured dataframe.\n",
    "\n",
    "We now need to find a way to scrape *all* discounted products. There are many, many more products in other categories, so it is important to be efficient.\n",
    "\n",
    "REI's website has a page for all deals - https://www.rei.com/f/scd-deals?pagesize=90. We will use this URL to scrape all products that are currently discounted.\n",
    "\n",
    "Notice that all of the products do not fit on the first page. In fact, the first page only holds a small proportion of all the discounted products.\n",
    "\n",
    "We can access the rest of the products by successively clicking through the arrow button `>` and scraping as we go."
   ]
  },
  {
   "attachments": {},
   "cell_type": "markdown",
   "id": "34aad041",
   "metadata": {},
   "source": [
    "![Pages](Photos/Pages.png)"
   ]
  },
  {
   "cell_type": "markdown",
   "id": "2b6bc2a8",
   "metadata": {},
   "source": [
    "The load more `>` button is stored in a `span` tag with \"Go to next page\" in the text. We can check if the current page lacks the load more button (meaning we are on the last page of products) by seeing whether the length of `buttons` is 0."
   ]
  },
  {
   "cell_type": "code",
   "execution_count": 34,
   "id": "d3fbe1a1",
   "metadata": {},
   "outputs": [],
   "source": [
    "# Find the load more button\n",
    "buttons = soup.find_all(lambda tag:tag.name==\"span\" and \"Go to next page\" in tag.text)"
   ]
  },
  {
   "cell_type": "code",
   "execution_count": 35,
   "id": "98ce4622",
   "metadata": {},
   "outputs": [
    {
     "data": {
      "text/plain": [
       "0"
      ]
     },
     "execution_count": 35,
     "metadata": {},
     "output_type": "execute_result"
    }
   ],
   "source": [
    "len(buttons)"
   ]
  },
  {
   "cell_type": "markdown",
   "id": "bf4f8b71",
   "metadata": {},
   "source": [
    "The URLs for the pages following the first look like this:\n",
    "- https://www.rei.com/f/scd-deals?pagesize=90&page=2\n",
    "- https://www.rei.com/f/scd-deals?pagesize=90&page=3\n",
    "- And so on...\n",
    "\n",
    "If the load more button exists, we will append '&page=2', '&page=3', etc. to the inputted URL and loop through each page in turn."
   ]
  },
  {
   "cell_type": "markdown",
   "id": "8cedc0a4",
   "metadata": {},
   "source": [
    "### Define a function"
   ]
  },
  {
   "cell_type": "markdown",
   "id": "4f6a2433",
   "metadata": {},
   "source": [
    "Now we define a function to scrape every discounted product. There are a few things we have to keep in mind.\n",
    "\n",
    "There are many pages that we have to load and parse, with many products on each page. In the previous sections, we looped through the loaded products every time we wanted more information. This time, we will only loop through the products one time per page and extract all the information at once.\n",
    "\n",
    "This function contains a more comprehensive list of gendered categories, although the vast majority of products are either Men's, Women's, Kids' or Unisex."
   ]
  },
  {
   "cell_type": "code",
   "execution_count": 36,
   "id": "01faca4e",
   "metadata": {},
   "outputs": [],
   "source": [
    "def rei_deals_scrape(url):\n",
    "    \"\"\"\n",
    "    Scrapes and returns data about discounted items on the REI website.\n",
    "    \n",
    "    Scrapes data from the REI deals website and returns a pandas dataframe with product names,\n",
    "    brand names, gender categories, sale prices, original prices, number of reviews, review rating, \n",
    "    and number of carousel images.\n",
    "    \n",
    "    Parameter url is the url of the website.\n",
    "    \"\"\"\n",
    "    # Store the URL\n",
    "    base_url = url\n",
    "    \n",
    "    # Define the list of dataframes\n",
    "    deals_data = []\n",
    "    \n",
    "    # Define REI gender categories\n",
    "    categories = [\"Men's\",\"Women's\",\"Women's/Kids'\",\"Men's/Kids'\",\"Kids'\",\n",
    "                  \"Boys'\",\"Girls'\",\"Toddlers'/Kids'\", \"Big Kids'\",\n",
    "                  \"Infants'\",\"Infants'/Toddlers'\",'Kids',\"Kids'\",\n",
    "                  \"Kids' Size 16\",\"Kids' Size 8\",\"Kids'/Toddlers'\", 'Boys\\' 17\" Outseam',\n",
    "                  \"Little Kids'\",\"Men's\",'Men\\'s 10\" Inseam','Men\\'s 10.5\" Inseam',\n",
    "                  'Men\\'s 11\" Inseam','Men\\'s 12\" Inseam','Men\\'s 16\" Outseam',\n",
    "                  'Men\\'s 17\" Outseam','Men\\'s 18\" Outseam','Men\\'s 18.5\" Outseam',\n",
    "                  'Men\\'s 19\" Outseam','Men\\'s 21\" Outseam','Men\\'s 3\" Inseam',\n",
    "                  'Men\\'s 32\" Inseam','Men\\'s 5\" Inseam','Men\\'s 5.5\" Inseam',\n",
    "                  'Men\\'s 6\" Inseam',\"Men's 6'' Inseam\",\"Men's 7 in. Inseam\",\n",
    "                  'Men\\'s 7\" Inseam','Men\\'s 7\" inseam','Men\\'s 7.5\" Inseam',\n",
    "                  'Men\\'s 8\" Inseam','Men\\'s 9\" Inseam','Men\\'s 9\" inseam',\n",
    "                  'Men\\'s 9.5\" Inseam',\"Men's Big Sizes\",\"Men's Big and Tall Sizes\",\n",
    "                  \"Men's Long\", \"Men's Short Sizes\", \"Men's Tall Sizes\",\n",
    "                  \"Men's Trail-Running Shoes\",\"Toddler Boys'\",\"Toddler Boys'/Boys'\",\n",
    "                  \"Toddler Girls'\",\"Toddler Girls'/Girls'\",\"Toddlers'\",\n",
    "                  'Toddlers\\' 14\" Outseam', \"Toddlers'/Kids'\", \"Toddlers'/Kids' Sizes 5-10\",\n",
    "                  \"Toddlers'/Little Kids'\",'Women\\'s 10\" Inseam','Women\\'s 2.5\" inseam',\n",
    "                  'Women\\'s 3\" Inseam','Women\\'s 4\" Inseam','Women\\'s 5\" Inseam',\n",
    "                  'Women\\'s 5.5\" Inseam','Women\\'s 6\" Inseam','Women\\'s 7\" Inseam',\n",
    "                  'Women\\'s 9\" Inseam', \"Women's Long\", \"Women's Petite\",\n",
    "                  \"Women's Petite Sizes\", \"Women's Plus Size\", \"Women's Plus Sizes\",\n",
    "                  \"Women's Short\", \"Women's Short Sizes\", \"Women's Tall Sizes\",\n",
    "                  \"Women's/Kids'\",]\n",
    "\n",
    "    # Define i as the page number, starting at 1    \n",
    "    i = 1\n",
    "    \n",
    "    # Define a function to count `li` tags\n",
    "    def countImages(product):\n",
    "        \"\"\"Returns the number of carousel images a product on REI's website\"\"\"\n",
    "        temp = product.find_all('li')\n",
    "        number = len(temp)\n",
    "        return number\n",
    "\n",
    "    # Loop through each page until there are no more pages\n",
    "    while True:\n",
    "        # Download the page content from the URL\n",
    "        res = requests.get(url)\n",
    "        res.raise_for_status\n",
    "        \n",
    "        # Parse the web page into a Beautiful Soup object\n",
    "        soup = BeautifulSoup(res.text,'html.parser')\n",
    "        \n",
    "        # Get all the products displayed on the page\n",
    "        products = soup.find_all('li', attrs = {'class':'pPe0GNuagvmEFURs1Q_vm'})\n",
    "\n",
    "        # Define empty lists to store our information\n",
    "        product_names = []\n",
    "        brand_names = []\n",
    "        sale_prices = []\n",
    "        original_prices = []\n",
    "        reviews = []\n",
    "        number_images = []\n",
    "\n",
    "        # Loop through products and extract the information we want\n",
    "        for product in products:\n",
    "            # Product names\n",
    "            product_names.append(product.find('span', attrs = {'data-ui':'product-title'}).string)\n",
    "\n",
    "            # Brand names\n",
    "            brand_names.append(product.find('span', attrs = {'data-ui':'product-brand'}).string)\n",
    "\n",
    "            # Sale prices\n",
    "            sale_prices.append(product.find('span', attrs = {'data-ui':'sale-price'}).string.strip('$'))\n",
    "\n",
    "            # Original prices\n",
    "            original_prices.append(product.find_all(lambda tag:tag.name==\"span\" and \"$\" in tag.text)[1].text.split('$')[1])\n",
    "\n",
    "            # Gender categories\n",
    "            genders = [s.split(\" - \")[1] if (len(s.split(\" - \"))>1) and (s.split(\" - \")[1] in categories) else \"Unisex\" for s in product_names]\n",
    "\n",
    "            # Reviews\n",
    "            reviews.append(product.find('span', attrs = {'class':'cdr-rating__caption-sr_11-1-0'}).string)\n",
    "            reviews_number,reviews_rating = zip(*(s.split(\" reviews\") for s in reviews))\n",
    "            reviews_rating = [s[27:30] for s in reviews_rating]\n",
    "\n",
    "            # Number of carousel images\n",
    "            number_images.append(countImages(product))\n",
    "\n",
    "            # Create a dataframe with our lists\n",
    "            deals = pd.DataFrame(list(zip(product_names,brand_names,genders,\n",
    "                                                   sale_prices,original_prices,reviews_number,\n",
    "                                                   reviews_rating,number_images)),\n",
    "                                          columns = ['product_name','brand_name','gender_category',\n",
    "                                                     'sale_price','original_price','number_reviews',\n",
    "                                                     'reviews_rating', 'number_images'])\n",
    "        \n",
    "        # Add the current dataframe to the existing list\n",
    "        deals_data.append(deals)\n",
    "\n",
    "        # Find the load more button\n",
    "        buttons = soup.find_all(lambda tag:tag.name==\"span\" and \"Go to next page\" in tag.text)\n",
    "\n",
    "        # If the load more button exists, move on to the next url. If not, end the loop.\n",
    "        if len(buttons) == 0:\n",
    "            break\n",
    "        else:\n",
    "            print(f\"Scraping page {str(i)}...\")\n",
    "            i+=1\n",
    "            url = base_url + '&page=' + str(i)\n",
    "    \n",
    "    print(\"Done!\")\n",
    "    \n",
    "    # Concatenate the list of dataframes together\n",
    "    deals_data = pd.concat(deals_data)\n",
    "    \n",
    "    return(deals_data)"
   ]
  },
  {
   "cell_type": "code",
   "execution_count": 37,
   "id": "cb49b0dc",
   "metadata": {
    "scrolled": true
   },
   "outputs": [
    {
     "name": "stdout",
     "output_type": "stream",
     "text": [
      "Scraping page 1...\n",
      "Scraping page 2...\n",
      "Scraping page 3...\n",
      "Scraping page 4...\n",
      "Scraping page 5...\n",
      "Scraping page 6...\n",
      "Scraping page 7...\n",
      "Scraping page 8...\n",
      "Scraping page 9...\n",
      "Scraping page 10...\n",
      "Scraping page 11...\n",
      "Scraping page 12...\n",
      "Scraping page 13...\n",
      "Scraping page 14...\n",
      "Scraping page 15...\n",
      "Scraping page 16...\n",
      "Scraping page 17...\n",
      "Scraping page 18...\n",
      "Scraping page 19...\n",
      "Scraping page 20...\n",
      "Scraping page 21...\n",
      "Scraping page 22...\n",
      "Scraping page 23...\n",
      "Scraping page 24...\n",
      "Scraping page 25...\n",
      "Scraping page 26...\n",
      "Scraping page 27...\n",
      "Scraping page 28...\n",
      "Scraping page 29...\n",
      "Scraping page 30...\n",
      "Scraping page 31...\n",
      "Scraping page 32...\n",
      "Scraping page 33...\n",
      "Scraping page 34...\n",
      "Scraping page 35...\n",
      "Scraping page 36...\n",
      "Scraping page 37...\n",
      "Scraping page 38...\n",
      "Scraping page 39...\n",
      "Scraping page 40...\n",
      "Scraping page 41...\n",
      "Scraping page 42...\n",
      "Scraping page 43...\n",
      "Scraping page 44...\n",
      "Scraping page 45...\n",
      "Scraping page 46...\n",
      "Scraping page 47...\n",
      "Scraping page 48...\n",
      "Scraping page 49...\n",
      "Scraping page 50...\n",
      "Scraping page 51...\n",
      "Scraping page 52...\n",
      "Scraping page 53...\n",
      "Scraping page 54...\n",
      "Scraping page 55...\n",
      "Scraping page 56...\n",
      "Scraping page 57...\n",
      "Scraping page 58...\n",
      "Scraping page 59...\n",
      "Scraping page 60...\n",
      "Scraping page 61...\n",
      "Scraping page 62...\n",
      "Scraping page 63...\n",
      "Scraping page 64...\n",
      "Scraping page 65...\n",
      "Scraping page 66...\n",
      "Scraping page 67...\n",
      "Scraping page 68...\n",
      "Scraping page 69...\n",
      "Scraping page 70...\n",
      "Done!\n"
     ]
    }
   ],
   "source": [
    "# Call the function on the \"Shop all deals\" URL\n",
    "deals_data = rei_deals_scrape('https://www.rei.com/f/scd-deals?pagesize=90')"
   ]
  },
  {
   "cell_type": "code",
   "execution_count": 38,
   "id": "4b384ac9",
   "metadata": {},
   "outputs": [
    {
     "data": {
      "text/html": [
       "<div>\n",
       "<style scoped>\n",
       "    .dataframe tbody tr th:only-of-type {\n",
       "        vertical-align: middle;\n",
       "    }\n",
       "\n",
       "    .dataframe tbody tr th {\n",
       "        vertical-align: top;\n",
       "    }\n",
       "\n",
       "    .dataframe thead th {\n",
       "        text-align: right;\n",
       "    }\n",
       "</style>\n",
       "<table border=\"1\" class=\"dataframe\">\n",
       "  <thead>\n",
       "    <tr style=\"text-align: right;\">\n",
       "      <th></th>\n",
       "      <th>product_name</th>\n",
       "      <th>brand_name</th>\n",
       "      <th>gender_category</th>\n",
       "      <th>sale_price</th>\n",
       "      <th>original_price</th>\n",
       "      <th>number_reviews</th>\n",
       "      <th>reviews_rating</th>\n",
       "      <th>number_images</th>\n",
       "    </tr>\n",
       "  </thead>\n",
       "  <tbody>\n",
       "    <tr>\n",
       "      <th>0</th>\n",
       "      <td>Sahara Path Pants - Men's</td>\n",
       "      <td>REI Co-op</td>\n",
       "      <td>Men's</td>\n",
       "      <td>34.83</td>\n",
       "      <td>69.95</td>\n",
       "      <td>151</td>\n",
       "      <td>4.5</td>\n",
       "      <td>4</td>\n",
       "    </tr>\n",
       "    <tr>\n",
       "      <th>1</th>\n",
       "      <td>Divide+ Push 425L LED Lantern</td>\n",
       "      <td>Coleman</td>\n",
       "      <td>Unisex</td>\n",
       "      <td>11.73</td>\n",
       "      <td>24.99</td>\n",
       "      <td>72</td>\n",
       "      <td>4.0</td>\n",
       "      <td>2</td>\n",
       "    </tr>\n",
       "    <tr>\n",
       "      <th>2</th>\n",
       "      <td>Recycled Flying Disc</td>\n",
       "      <td>REI Co-op</td>\n",
       "      <td>Unisex</td>\n",
       "      <td>4.93</td>\n",
       "      <td>12.95</td>\n",
       "      <td>3</td>\n",
       "      <td>5.0</td>\n",
       "      <td>2</td>\n",
       "    </tr>\n",
       "    <tr>\n",
       "      <th>3</th>\n",
       "      <td>Siesta Hooded 25 Double Sleeping Bag</td>\n",
       "      <td>REI Co-op</td>\n",
       "      <td>Unisex</td>\n",
       "      <td>113.93</td>\n",
       "      <td>229.00</td>\n",
       "      <td>73</td>\n",
       "      <td>4.2</td>\n",
       "      <td>5</td>\n",
       "    </tr>\n",
       "    <tr>\n",
       "      <th>4</th>\n",
       "      <td>Cross Hike Mid GTX Hiking Boots - Men's</td>\n",
       "      <td>Salomon</td>\n",
       "      <td>Men's</td>\n",
       "      <td>84.83</td>\n",
       "      <td>170.00</td>\n",
       "      <td>228</td>\n",
       "      <td>3.5</td>\n",
       "      <td>8</td>\n",
       "    </tr>\n",
       "    <tr>\n",
       "      <th>...</th>\n",
       "      <td>...</td>\n",
       "      <td>...</td>\n",
       "      <td>...</td>\n",
       "      <td>...</td>\n",
       "      <td>...</td>\n",
       "      <td>...</td>\n",
       "      <td>...</td>\n",
       "      <td>...</td>\n",
       "    </tr>\n",
       "    <tr>\n",
       "      <th>2</th>\n",
       "      <td>Heavy Vibes Socks</td>\n",
       "      <td>Poler</td>\n",
       "      <td>Unisex</td>\n",
       "      <td>7.73</td>\n",
       "      <td>12.00</td>\n",
       "      <td>0</td>\n",
       "      <td></td>\n",
       "      <td>1</td>\n",
       "    </tr>\n",
       "    <tr>\n",
       "      <th>3</th>\n",
       "      <td>CoffeePress</td>\n",
       "      <td>BioLite</td>\n",
       "      <td>Unisex</td>\n",
       "      <td>8.73</td>\n",
       "      <td>14.95</td>\n",
       "      <td>0</td>\n",
       "      <td></td>\n",
       "      <td>8</td>\n",
       "    </tr>\n",
       "    <tr>\n",
       "      <th>4</th>\n",
       "      <td>ErgoBuoy Pull Buoy</td>\n",
       "      <td>Aqua Sphere</td>\n",
       "      <td>Unisex</td>\n",
       "      <td>8.73</td>\n",
       "      <td>24.99</td>\n",
       "      <td>1</td>\n",
       "      <td>1.0</td>\n",
       "      <td>1</td>\n",
       "    </tr>\n",
       "    <tr>\n",
       "      <th>5</th>\n",
       "      <td>Purist Water Bottle - 22 fl. oz.</td>\n",
       "      <td>Co-op Cycles</td>\n",
       "      <td>Unisex</td>\n",
       "      <td>6.93</td>\n",
       "      <td>9.95</td>\n",
       "      <td>65</td>\n",
       "      <td>4.7</td>\n",
       "      <td>3</td>\n",
       "    </tr>\n",
       "    <tr>\n",
       "      <th>6</th>\n",
       "      <td>Graphic Bandana</td>\n",
       "      <td>REI Co-op</td>\n",
       "      <td>Unisex</td>\n",
       "      <td>3.93</td>\n",
       "      <td>7.95</td>\n",
       "      <td>10</td>\n",
       "      <td>4.0</td>\n",
       "      <td>3</td>\n",
       "    </tr>\n",
       "  </tbody>\n",
       "</table>\n",
       "<p>6307 rows × 8 columns</p>\n",
       "</div>"
      ],
      "text/plain": [
       "                               product_name    brand_name gender_category  \\\n",
       "0                 Sahara Path Pants - Men's     REI Co-op           Men's   \n",
       "1             Divide+ Push 425L LED Lantern       Coleman          Unisex   \n",
       "2                      Recycled Flying Disc     REI Co-op          Unisex   \n",
       "3      Siesta Hooded 25 Double Sleeping Bag     REI Co-op          Unisex   \n",
       "4   Cross Hike Mid GTX Hiking Boots - Men's       Salomon           Men's   \n",
       "..                                      ...           ...             ...   \n",
       "2                         Heavy Vibes Socks         Poler          Unisex   \n",
       "3                               CoffeePress       BioLite          Unisex   \n",
       "4                        ErgoBuoy Pull Buoy   Aqua Sphere          Unisex   \n",
       "5          Purist Water Bottle - 22 fl. oz.  Co-op Cycles          Unisex   \n",
       "6                           Graphic Bandana     REI Co-op          Unisex   \n",
       "\n",
       "   sale_price original_price number_reviews reviews_rating  number_images  \n",
       "0       34.83          69.95            151            4.5              4  \n",
       "1       11.73          24.99             72            4.0              2  \n",
       "2        4.93          12.95              3            5.0              2  \n",
       "3      113.93         229.00             73            4.2              5  \n",
       "4       84.83         170.00            228            3.5              8  \n",
       "..        ...            ...            ...            ...            ...  \n",
       "2        7.73          12.00              0                             1  \n",
       "3        8.73          14.95              0                             8  \n",
       "4        8.73          24.99              1            1.0              1  \n",
       "5        6.93           9.95             65            4.7              3  \n",
       "6        3.93           7.95             10            4.0              3  \n",
       "\n",
       "[6307 rows x 8 columns]"
      ]
     },
     "execution_count": 38,
     "metadata": {},
     "output_type": "execute_result"
    }
   ],
   "source": [
    "deals_data"
   ]
  },
  {
   "cell_type": "code",
   "execution_count": 39,
   "id": "46d64b77",
   "metadata": {},
   "outputs": [
    {
     "data": {
      "text/plain": [
       "(6307, 8)"
      ]
     },
     "execution_count": 39,
     "metadata": {},
     "output_type": "execute_result"
    }
   ],
   "source": [
    "deals_data.shape"
   ]
  },
  {
   "cell_type": "markdown",
   "id": "f88425f6",
   "metadata": {},
   "source": [
    "Wow, that's a lot of deals!"
   ]
  },
  {
   "cell_type": "markdown",
   "id": "71a97da1",
   "metadata": {},
   "source": [
    "## Clean the data"
   ]
  },
  {
   "cell_type": "markdown",
   "id": "0fe9cbac",
   "metadata": {},
   "source": [
    "Let's first examine the data types of each column."
   ]
  },
  {
   "cell_type": "code",
   "execution_count": 40,
   "id": "9153fc98",
   "metadata": {},
   "outputs": [
    {
     "data": {
      "text/plain": [
       "product_name       object\n",
       "brand_name         object\n",
       "gender_category    object\n",
       "sale_price         object\n",
       "original_price     object\n",
       "number_reviews     object\n",
       "reviews_rating     object\n",
       "number_images       int64\n",
       "dtype: object"
      ]
     },
     "execution_count": 40,
     "metadata": {},
     "output_type": "execute_result"
    }
   ],
   "source": [
    "deals_data.dtypes"
   ]
  },
  {
   "cell_type": "markdown",
   "id": "517e0559",
   "metadata": {},
   "source": [
    "We will convert `sale_price`, `original_price`, and `reviews rating` to `float`, and `number_reviews` to `int`.\n",
    "\n",
    "Before we do that, we need to make sure that there are no confusing characters.\n",
    "\n",
    "Some products have a price range that includes \"-\" instead of a single price (different options with different prices). We will remove these from our dataframe.\n",
    "\n",
    "Prices in the $1,000s have commas that we need to take out.\n",
    "\n",
    "Finally, we need to replace the empty strings in the `reviews_rating` column with `Nan` values."
   ]
  },
  {
   "cell_type": "code",
   "execution_count": 41,
   "id": "ad06b5a4",
   "metadata": {
    "scrolled": true
   },
   "outputs": [
    {
     "name": "stdout",
     "output_type": "stream",
     "text": [
      "3.12% of data removed.\n"
     ]
    }
   ],
   "source": [
    "# Remove products with price ranges\n",
    "print(f\"{((deals_data.sale_price.str.contains('-').sum() + deals_data.original_price.str.contains('-').sum())/deals_data.shape[0]*100):.2f}% of data removed.\")\n",
    "deals_data = deals_data[~deals_data.sale_price.str.contains(\"-\")]\n",
    "deals_data = deals_data[~deals_data.original_price.str.contains(\"-\")]"
   ]
  },
  {
   "cell_type": "code",
   "execution_count": 42,
   "id": "0529c76b",
   "metadata": {},
   "outputs": [],
   "source": [
    "# Remove commas\n",
    "deals_data['sale_price'] = deals_data['sale_price'].str.replace(',','')\n",
    "deals_data['original_price'] = deals_data['original_price'].str.replace(',','')"
   ]
  },
  {
   "cell_type": "code",
   "execution_count": 43,
   "id": "2b1e7bdf",
   "metadata": {},
   "outputs": [],
   "source": [
    "# Replace empty strings with NaN\n",
    "deals_data['reviews_rating'] = deals_data['reviews_rating'].replace(r'^\\s*$', np.nan, regex=True)"
   ]
  },
  {
   "cell_type": "code",
   "execution_count": 44,
   "id": "1599e020",
   "metadata": {},
   "outputs": [],
   "source": [
    "# Convert to new data types\n",
    "deals_data = deals_data.astype({'sale_price':'float','original_price':'float',\n",
    "                                'number_reviews':'int','reviews_rating':'float'})"
   ]
  },
  {
   "cell_type": "code",
   "execution_count": 45,
   "id": "bba27f4b",
   "metadata": {},
   "outputs": [
    {
     "data": {
      "text/plain": [
       "product_name        object\n",
       "brand_name          object\n",
       "gender_category     object\n",
       "sale_price         float64\n",
       "original_price     float64\n",
       "number_reviews       int64\n",
       "reviews_rating     float64\n",
       "number_images        int64\n",
       "dtype: object"
      ]
     },
     "execution_count": 45,
     "metadata": {},
     "output_type": "execute_result"
    }
   ],
   "source": [
    "deals_data.dtypes"
   ]
  },
  {
   "cell_type": "markdown",
   "id": "5ff7a672",
   "metadata": {},
   "source": [
    "Finally, let's take a look at the gender categories and try to simplify them a bit.\n",
    "\n",
    "We will put every product into one of four categores:\n",
    "- Women's: any category tag that mentions women.\n",
    "- Men's: any category tag that mentions men.\n",
    "- Kids': any category tag that mentions kids, boys, girls, toddlers, or infants.\n",
    "- Unisex: anything else."
   ]
  },
  {
   "cell_type": "code",
   "execution_count": 46,
   "id": "a44e32ec",
   "metadata": {},
   "outputs": [],
   "source": [
    "# Define new gender category terms\n",
    "categories_women = [\"Women's\",\"Women's/Kids'\",'Women\\'s 10\" Inseam','Women\\'s 2.5\" inseam',\n",
    "                  'Women\\'s 3\" Inseam','Women\\'s 4\" Inseam','Women\\'s 5\" Inseam',\n",
    "                  'Women\\'s 5.5\" Inseam','Women\\'s 6\" Inseam','Women\\'s 7\" Inseam',\n",
    "                  'Women\\'s 9\" Inseam', \"Women's Long\", \"Women's Petite\",\n",
    "                  \"Women's Petite Sizes\", \"Women's Plus Size\", \"Women's Plus Sizes\",\n",
    "                  \"Women's Short\", \"Women's Short Sizes\", \"Women's Tall Sizes\",\n",
    "                  \"Women's/Kids'\",]\n",
    "\n",
    "categories_men = [\"Men's\",\"Men's/Kids'\",\"Men's\",'Men\\'s 10\" Inseam','Men\\'s 10.5\" Inseam',\n",
    "                  'Men\\'s 11\" Inseam','Men\\'s 12\" Inseam','Men\\'s 16\" Outseam',\n",
    "                  'Men\\'s 17\" Outseam','Men\\'s 18\" Outseam','Men\\'s 18.5\" Outseam',\n",
    "                  'Men\\'s 19\" Outseam','Men\\'s 21\" Outseam','Men\\'s 3\" Inseam',\n",
    "                  'Men\\'s 32\" Inseam','Men\\'s 5\" Inseam','Men\\'s 5.5\" Inseam',\n",
    "                  'Men\\'s 6\" Inseam',\"Men's 6'' Inseam\",\"Men's 7 in. Inseam\",\n",
    "                  'Men\\'s 7\" Inseam','Men\\'s 7\" inseam','Men\\'s 7.5\" Inseam',\n",
    "                  'Men\\'s 8\" Inseam','Men\\'s 9\" Inseam','Men\\'s 9\" inseam',\n",
    "                  'Men\\'s 9.5\" Inseam',\"Men's Big Sizes\",\"Men's Big and Tall Sizes\",\n",
    "                  \"Men's Long\", \"Men's Short Sizes\", \"Men's Tall Sizes\",\n",
    "                  \"Men's Trail-Running Shoes\",]\n",
    "\n",
    "categories_kids = [\"Kids'\",\"Boys'\",\"Girls'\",\"Toddlers'/Kids'\", \"Big Kids'\",\n",
    "                  \"Infants'\",\"Infants'/Toddlers'\",'Kids',\"Kids'\",\n",
    "                  \"Kids' Size 16\",\"Kids' Size 8\",\"Kids'/Toddlers'\", 'Boys\\' 17\" Outseam',\n",
    "                  \"Little Kids'\",\"Toddler Boys'\",\"Toddler Boys'/Boys'\",\n",
    "                  \"Toddler Girls'\",\"Toddler Girls'/Girls'\",\"Toddlers'\",\n",
    "                  'Toddlers\\' 14\" Outseam', \"Toddlers'/Kids'\", \"Toddlers'/Kids' Sizes 5-10\",\n",
    "                  \"Toddlers'/Little Kids'\",]"
   ]
  },
  {
   "cell_type": "markdown",
   "id": "63a1c878",
   "metadata": {},
   "source": [
    "We define three masks to filter to products in `deals_data` that are in the women's, men's, or kids' categories."
   ]
  },
  {
   "cell_type": "code",
   "execution_count": 47,
   "id": "a09029a1",
   "metadata": {},
   "outputs": [],
   "source": [
    "# Define masks for women's, men's, and kids' categories\n",
    "mask_w = deals_data.gender_category.isin(categories_women)\n",
    "mask_m = deals_data.gender_category.isin(categories_men)\n",
    "mask_k = deals_data.gender_category.isin(categories_kids)"
   ]
  },
  {
   "cell_type": "code",
   "execution_count": 48,
   "id": "241e8622",
   "metadata": {},
   "outputs": [],
   "source": [
    "# Set new gender categories based on the masks\n",
    "deals_data.loc[mask_w,'gender_category'] = \"Women's\"\n",
    "deals_data.loc[mask_m,'gender_category'] = \"Men's\"\n",
    "deals_data.loc[mask_k,'gender_category'] = \"Kids'\""
   ]
  },
  {
   "cell_type": "code",
   "execution_count": 49,
   "id": "cfa6fea4",
   "metadata": {},
   "outputs": [
    {
     "data": {
      "text/plain": [
       "Women's    2557\n",
       "Men's      1574\n",
       "Unisex     1405\n",
       "Kids'       617\n",
       "Name: gender_category, dtype: int64"
      ]
     },
     "execution_count": 49,
     "metadata": {},
     "output_type": "execute_result"
    }
   ],
   "source": [
    "deals_data.gender_category.value_counts()"
   ]
  },
  {
   "cell_type": "markdown",
   "id": "d1765a7a",
   "metadata": {},
   "source": [
    "Before we move on, we will add one more column `percent_discount` that is the percentage difference between the sale price and original price."
   ]
  },
  {
   "cell_type": "code",
   "execution_count": 50,
   "id": "425a6ebe",
   "metadata": {},
   "outputs": [],
   "source": [
    "# Add a new column with the percent discount\n",
    "deals_data['percent_discount'] = 100*(deals_data['original_price']-deals_data['sale_price'])/deals_data['original_price']"
   ]
  },
  {
   "cell_type": "code",
   "execution_count": 51,
   "id": "9297db66",
   "metadata": {
    "scrolled": false
   },
   "outputs": [
    {
     "data": {
      "text/html": [
       "<div>\n",
       "<style scoped>\n",
       "    .dataframe tbody tr th:only-of-type {\n",
       "        vertical-align: middle;\n",
       "    }\n",
       "\n",
       "    .dataframe tbody tr th {\n",
       "        vertical-align: top;\n",
       "    }\n",
       "\n",
       "    .dataframe thead th {\n",
       "        text-align: right;\n",
       "    }\n",
       "</style>\n",
       "<table border=\"1\" class=\"dataframe\">\n",
       "  <thead>\n",
       "    <tr style=\"text-align: right;\">\n",
       "      <th></th>\n",
       "      <th>product_name</th>\n",
       "      <th>brand_name</th>\n",
       "      <th>gender_category</th>\n",
       "      <th>sale_price</th>\n",
       "      <th>original_price</th>\n",
       "      <th>number_reviews</th>\n",
       "      <th>reviews_rating</th>\n",
       "      <th>number_images</th>\n",
       "      <th>percent_discount</th>\n",
       "    </tr>\n",
       "  </thead>\n",
       "  <tbody>\n",
       "    <tr>\n",
       "      <th>20</th>\n",
       "      <td>Multifunctional Tube</td>\n",
       "      <td>Chaos</td>\n",
       "      <td>Unisex</td>\n",
       "      <td>1.73</td>\n",
       "      <td>14.99</td>\n",
       "      <td>80</td>\n",
       "      <td>3.7</td>\n",
       "      <td>4</td>\n",
       "      <td>88.458973</td>\n",
       "    </tr>\n",
       "    <tr>\n",
       "      <th>24</th>\n",
       "      <td>Hallena Pants - Women's</td>\n",
       "      <td>prAna</td>\n",
       "      <td>Women's</td>\n",
       "      <td>17.73</td>\n",
       "      <td>89.00</td>\n",
       "      <td>17</td>\n",
       "      <td>3.7</td>\n",
       "      <td>2</td>\n",
       "      <td>80.078652</td>\n",
       "    </tr>\n",
       "    <tr>\n",
       "      <th>50</th>\n",
       "      <td>Rim Tape - 18mm Wide</td>\n",
       "      <td>Orange Seal</td>\n",
       "      <td>Unisex</td>\n",
       "      <td>2.93</td>\n",
       "      <td>13.00</td>\n",
       "      <td>1</td>\n",
       "      <td>1.0</td>\n",
       "      <td>1</td>\n",
       "      <td>77.461538</td>\n",
       "    </tr>\n",
       "    <tr>\n",
       "      <th>44</th>\n",
       "      <td>St. Barth Swimsuit Bottoms - Women's</td>\n",
       "      <td>Carve Designs</td>\n",
       "      <td>Women's</td>\n",
       "      <td>9.73</td>\n",
       "      <td>42.00</td>\n",
       "      <td>1</td>\n",
       "      <td>5.0</td>\n",
       "      <td>4</td>\n",
       "      <td>76.833333</td>\n",
       "    </tr>\n",
       "    <tr>\n",
       "      <th>40</th>\n",
       "      <td>Flash Insulated Jacket - Men's</td>\n",
       "      <td>REI Co-op</td>\n",
       "      <td>Men's</td>\n",
       "      <td>34.83</td>\n",
       "      <td>149.00</td>\n",
       "      <td>112</td>\n",
       "      <td>4.3</td>\n",
       "      <td>1</td>\n",
       "      <td>76.624161</td>\n",
       "    </tr>\n",
       "    <tr>\n",
       "      <th>79</th>\n",
       "      <td>Sweet Summer Rib Frill Tank One-Piece Swimsuit...</td>\n",
       "      <td>Seafolly</td>\n",
       "      <td>Kids'</td>\n",
       "      <td>13.73</td>\n",
       "      <td>58.00</td>\n",
       "      <td>0</td>\n",
       "      <td>NaN</td>\n",
       "      <td>1</td>\n",
       "      <td>76.327586</td>\n",
       "    </tr>\n",
       "    <tr>\n",
       "      <th>3</th>\n",
       "      <td>Sun Dreamer Stripe Tank One-Piece Swimsuit - G...</td>\n",
       "      <td>Seafolly</td>\n",
       "      <td>Kids'</td>\n",
       "      <td>13.73</td>\n",
       "      <td>58.00</td>\n",
       "      <td>0</td>\n",
       "      <td>NaN</td>\n",
       "      <td>1</td>\n",
       "      <td>76.327586</td>\n",
       "    </tr>\n",
       "    <tr>\n",
       "      <th>49</th>\n",
       "      <td>Frankie Tank Top - Women's</td>\n",
       "      <td>Carve Designs</td>\n",
       "      <td>Women's</td>\n",
       "      <td>14.73</td>\n",
       "      <td>62.00</td>\n",
       "      <td>3</td>\n",
       "      <td>3.3</td>\n",
       "      <td>3</td>\n",
       "      <td>76.241935</td>\n",
       "    </tr>\n",
       "    <tr>\n",
       "      <th>43</th>\n",
       "      <td>Mesh Tank Top - Thistle - Girls'</td>\n",
       "      <td>Threads 4 Thought</td>\n",
       "      <td>Unisex</td>\n",
       "      <td>6.73</td>\n",
       "      <td>28.00</td>\n",
       "      <td>0</td>\n",
       "      <td>NaN</td>\n",
       "      <td>3</td>\n",
       "      <td>75.964286</td>\n",
       "    </tr>\n",
       "    <tr>\n",
       "      <th>22</th>\n",
       "      <td>BRT615 (B01S) Resin Disc Brake Pads</td>\n",
       "      <td>Shimano</td>\n",
       "      <td>Unisex</td>\n",
       "      <td>1.93</td>\n",
       "      <td>8.00</td>\n",
       "      <td>11</td>\n",
       "      <td>4.4</td>\n",
       "      <td>1</td>\n",
       "      <td>75.875000</td>\n",
       "    </tr>\n",
       "  </tbody>\n",
       "</table>\n",
       "</div>"
      ],
      "text/plain": [
       "                                         product_name         brand_name  \\\n",
       "20                               Multifunctional Tube              Chaos   \n",
       "24                            Hallena Pants - Women's              prAna   \n",
       "50                               Rim Tape - 18mm Wide        Orange Seal   \n",
       "44               St. Barth Swimsuit Bottoms - Women's      Carve Designs   \n",
       "40                     Flash Insulated Jacket - Men's          REI Co-op   \n",
       "79  Sweet Summer Rib Frill Tank One-Piece Swimsuit...           Seafolly   \n",
       "3   Sun Dreamer Stripe Tank One-Piece Swimsuit - G...           Seafolly   \n",
       "49                         Frankie Tank Top - Women's      Carve Designs   \n",
       "43                   Mesh Tank Top - Thistle - Girls'  Threads 4 Thought   \n",
       "22                BRT615 (B01S) Resin Disc Brake Pads            Shimano   \n",
       "\n",
       "   gender_category  sale_price  original_price  number_reviews  \\\n",
       "20          Unisex        1.73           14.99              80   \n",
       "24         Women's       17.73           89.00              17   \n",
       "50          Unisex        2.93           13.00               1   \n",
       "44         Women's        9.73           42.00               1   \n",
       "40           Men's       34.83          149.00             112   \n",
       "79           Kids'       13.73           58.00               0   \n",
       "3            Kids'       13.73           58.00               0   \n",
       "49         Women's       14.73           62.00               3   \n",
       "43          Unisex        6.73           28.00               0   \n",
       "22          Unisex        1.93            8.00              11   \n",
       "\n",
       "    reviews_rating  number_images  percent_discount  \n",
       "20             3.7              4         88.458973  \n",
       "24             3.7              2         80.078652  \n",
       "50             1.0              1         77.461538  \n",
       "44             5.0              4         76.833333  \n",
       "40             4.3              1         76.624161  \n",
       "79             NaN              1         76.327586  \n",
       "3              NaN              1         76.327586  \n",
       "49             3.3              3         76.241935  \n",
       "43             NaN              3         75.964286  \n",
       "22             4.4              1         75.875000  "
      ]
     },
     "execution_count": 51,
     "metadata": {},
     "output_type": "execute_result"
    }
   ],
   "source": [
    "# Look at 10 most discounted products\n",
    "deals_data.nlargest(10,'percent_discount')"
   ]
  },
  {
   "cell_type": "markdown",
   "id": "0a9e8d8f",
   "metadata": {},
   "source": [
    "## Explore the data"
   ]
  },
  {
   "cell_type": "markdown",
   "id": "d666e2fe",
   "metadata": {},
   "source": [
    "What advantages do we have already over the functionality of REI's website?\n",
    "\n",
    "The website allows you to filter by brand or gender and sort by price, percent discount, or review ratings, but combining multiple criteria grows clunky, and it is impossible to sort by multiple criteria.\n",
    "\n",
    "A quick comparison between the most discounted products above and the results of the website when sorted by percent discount reveals that products discounted over 80% are not even displayed! You can find them searching manually by name, but they do not automatically populate when sorted. Interesting!\n",
    "\n",
    "To demonstrate the power of our dataframe, let's look at all products with at least 100 reviews and a rating of at least 4.9 stars (number of reviews is not a criteria on the website)."
   ]
  },
  {
   "cell_type": "code",
   "execution_count": 52,
   "id": "dc2fe2ea",
   "metadata": {
    "scrolled": false
   },
   "outputs": [
    {
     "data": {
      "text/html": [
       "<div>\n",
       "<style scoped>\n",
       "    .dataframe tbody tr th:only-of-type {\n",
       "        vertical-align: middle;\n",
       "    }\n",
       "\n",
       "    .dataframe tbody tr th {\n",
       "        vertical-align: top;\n",
       "    }\n",
       "\n",
       "    .dataframe thead th {\n",
       "        text-align: right;\n",
       "    }\n",
       "</style>\n",
       "<table border=\"1\" class=\"dataframe\">\n",
       "  <thead>\n",
       "    <tr style=\"text-align: right;\">\n",
       "      <th></th>\n",
       "      <th>product_name</th>\n",
       "      <th>brand_name</th>\n",
       "      <th>gender_category</th>\n",
       "      <th>sale_price</th>\n",
       "      <th>original_price</th>\n",
       "      <th>number_reviews</th>\n",
       "      <th>reviews_rating</th>\n",
       "      <th>number_images</th>\n",
       "      <th>percent_discount</th>\n",
       "    </tr>\n",
       "  </thead>\n",
       "  <tbody>\n",
       "    <tr>\n",
       "      <th>52</th>\n",
       "      <td>Reversible Mossbud Swirl Parka - Girls'</td>\n",
       "      <td>The North Face</td>\n",
       "      <td>Kids'</td>\n",
       "      <td>95.73</td>\n",
       "      <td>129.0</td>\n",
       "      <td>138</td>\n",
       "      <td>4.9</td>\n",
       "      <td>5</td>\n",
       "      <td>25.790698</td>\n",
       "    </tr>\n",
       "    <tr>\n",
       "      <th>79</th>\n",
       "      <td>Neo-Classic Rain Boots - Toddlers'/Kids'</td>\n",
       "      <td>Bogs</td>\n",
       "      <td>Kids'</td>\n",
       "      <td>69.73</td>\n",
       "      <td>90.0</td>\n",
       "      <td>114</td>\n",
       "      <td>4.9</td>\n",
       "      <td>4</td>\n",
       "      <td>22.522222</td>\n",
       "    </tr>\n",
       "    <tr>\n",
       "      <th>26</th>\n",
       "      <td>Hike+ Light Crew Socks - Men's</td>\n",
       "      <td>Icebreaker</td>\n",
       "      <td>Men's</td>\n",
       "      <td>16.73</td>\n",
       "      <td>22.0</td>\n",
       "      <td>343</td>\n",
       "      <td>4.9</td>\n",
       "      <td>1</td>\n",
       "      <td>23.954545</td>\n",
       "    </tr>\n",
       "    <tr>\n",
       "      <th>77</th>\n",
       "      <td>Play Hat - Toddlers'/Kids'</td>\n",
       "      <td>Sunday Afternoons</td>\n",
       "      <td>Kids'</td>\n",
       "      <td>20.73</td>\n",
       "      <td>29.0</td>\n",
       "      <td>592</td>\n",
       "      <td>4.9</td>\n",
       "      <td>2</td>\n",
       "      <td>28.517241</td>\n",
       "    </tr>\n",
       "  </tbody>\n",
       "</table>\n",
       "</div>"
      ],
      "text/plain": [
       "                                product_name         brand_name  \\\n",
       "52   Reversible Mossbud Swirl Parka - Girls'     The North Face   \n",
       "79  Neo-Classic Rain Boots - Toddlers'/Kids'               Bogs   \n",
       "26            Hike+ Light Crew Socks - Men's         Icebreaker   \n",
       "77                Play Hat - Toddlers'/Kids'  Sunday Afternoons   \n",
       "\n",
       "   gender_category  sale_price  original_price  number_reviews  \\\n",
       "52           Kids'       95.73           129.0             138   \n",
       "79           Kids'       69.73            90.0             114   \n",
       "26           Men's       16.73            22.0             343   \n",
       "77           Kids'       20.73            29.0             592   \n",
       "\n",
       "    reviews_rating  number_images  percent_discount  \n",
       "52             4.9              5         25.790698  \n",
       "79             4.9              4         22.522222  \n",
       "26             4.9              1         23.954545  \n",
       "77             4.9              2         28.517241  "
      ]
     },
     "execution_count": 52,
     "metadata": {},
     "output_type": "execute_result"
    }
   ],
   "source": [
    "# Return products with at least 100 reviews and 4.9 stars\n",
    "deals_data[(pd.to_numeric(deals_data.number_reviews)>=100) & (pd.to_numeric(deals_data.reviews_rating)>=4.9)]"
   ]
  },
  {
   "cell_type": "markdown",
   "id": "102dfd92",
   "metadata": {},
   "source": [
    "Let's generate some descriptive statistics of our dataframe. The `.describe()` method returns the count, mean, standard deviation, minimum, percentiles, and maximum for all numeric columns by default."
   ]
  },
  {
   "cell_type": "code",
   "execution_count": 53,
   "id": "4f3cb9f7",
   "metadata": {},
   "outputs": [
    {
     "data": {
      "text/html": [
       "<div>\n",
       "<style scoped>\n",
       "    .dataframe tbody tr th:only-of-type {\n",
       "        vertical-align: middle;\n",
       "    }\n",
       "\n",
       "    .dataframe tbody tr th {\n",
       "        vertical-align: top;\n",
       "    }\n",
       "\n",
       "    .dataframe thead th {\n",
       "        text-align: right;\n",
       "    }\n",
       "</style>\n",
       "<table border=\"1\" class=\"dataframe\">\n",
       "  <thead>\n",
       "    <tr style=\"text-align: right;\">\n",
       "      <th></th>\n",
       "      <th>sale_price</th>\n",
       "      <th>original_price</th>\n",
       "      <th>number_reviews</th>\n",
       "      <th>reviews_rating</th>\n",
       "      <th>number_images</th>\n",
       "      <th>percent_discount</th>\n",
       "    </tr>\n",
       "  </thead>\n",
       "  <tbody>\n",
       "    <tr>\n",
       "      <th>count</th>\n",
       "      <td>6153.000000</td>\n",
       "      <td>6153.000000</td>\n",
       "      <td>6153.000000</td>\n",
       "      <td>4401.000000</td>\n",
       "      <td>6153.000000</td>\n",
       "      <td>6153.000000</td>\n",
       "    </tr>\n",
       "    <tr>\n",
       "      <th>mean</th>\n",
       "      <td>80.879579</td>\n",
       "      <td>124.410588</td>\n",
       "      <td>31.669592</td>\n",
       "      <td>4.116496</td>\n",
       "      <td>4.168211</td>\n",
       "      <td>37.154947</td>\n",
       "    </tr>\n",
       "    <tr>\n",
       "      <th>std</th>\n",
       "      <td>154.593184</td>\n",
       "      <td>202.308235</td>\n",
       "      <td>187.622867</td>\n",
       "      <td>0.861437</td>\n",
       "      <td>2.631487</td>\n",
       "      <td>14.229762</td>\n",
       "    </tr>\n",
       "    <tr>\n",
       "      <th>min</th>\n",
       "      <td>1.730000</td>\n",
       "      <td>4.750000</td>\n",
       "      <td>0.000000</td>\n",
       "      <td>1.000000</td>\n",
       "      <td>1.000000</td>\n",
       "      <td>-11.235206</td>\n",
       "    </tr>\n",
       "    <tr>\n",
       "      <th>25%</th>\n",
       "      <td>29.730000</td>\n",
       "      <td>52.000000</td>\n",
       "      <td>0.000000</td>\n",
       "      <td>3.800000</td>\n",
       "      <td>2.000000</td>\n",
       "      <td>25.397059</td>\n",
       "    </tr>\n",
       "    <tr>\n",
       "      <th>50%</th>\n",
       "      <td>49.830000</td>\n",
       "      <td>80.000000</td>\n",
       "      <td>2.000000</td>\n",
       "      <td>4.300000</td>\n",
       "      <td>4.000000</td>\n",
       "      <td>30.908000</td>\n",
       "    </tr>\n",
       "    <tr>\n",
       "      <th>75%</th>\n",
       "      <td>89.730000</td>\n",
       "      <td>139.950000</td>\n",
       "      <td>12.000000</td>\n",
       "      <td>4.700000</td>\n",
       "      <td>6.000000</td>\n",
       "      <td>50.130769</td>\n",
       "    </tr>\n",
       "    <tr>\n",
       "      <th>max</th>\n",
       "      <td>5439.930000</td>\n",
       "      <td>6800.000000</td>\n",
       "      <td>6387.000000</td>\n",
       "      <td>5.000000</td>\n",
       "      <td>11.000000</td>\n",
       "      <td>88.458973</td>\n",
       "    </tr>\n",
       "  </tbody>\n",
       "</table>\n",
       "</div>"
      ],
      "text/plain": [
       "        sale_price  original_price  number_reviews  reviews_rating  \\\n",
       "count  6153.000000     6153.000000     6153.000000     4401.000000   \n",
       "mean     80.879579      124.410588       31.669592        4.116496   \n",
       "std     154.593184      202.308235      187.622867        0.861437   \n",
       "min       1.730000        4.750000        0.000000        1.000000   \n",
       "25%      29.730000       52.000000        0.000000        3.800000   \n",
       "50%      49.830000       80.000000        2.000000        4.300000   \n",
       "75%      89.730000      139.950000       12.000000        4.700000   \n",
       "max    5439.930000     6800.000000     6387.000000        5.000000   \n",
       "\n",
       "       number_images  percent_discount  \n",
       "count    6153.000000       6153.000000  \n",
       "mean        4.168211         37.154947  \n",
       "std         2.631487         14.229762  \n",
       "min         1.000000        -11.235206  \n",
       "25%         2.000000         25.397059  \n",
       "50%         4.000000         30.908000  \n",
       "75%         6.000000         50.130769  \n",
       "max        11.000000         88.458973  "
      ]
     },
     "execution_count": 53,
     "metadata": {},
     "output_type": "execute_result"
    }
   ],
   "source": [
    "# Describe the numeric columns\n",
    "deals_data.describe()"
   ]
  },
  {
   "cell_type": "markdown",
   "id": "dd24d3a8",
   "metadata": {},
   "source": [
    "What does this tell us? A few things jump out:\n",
    "- `sale_price` and `original_price` have a large coefficiant of variation (ratio of standard deviation to the mean), meaning that dispersion is high (the data is stretched).\n",
    "- The mean of `sale_price` and `original_price` is greater than the median, and close to the 75th percentile. The maximum values for `sale_price` and `original_price` are much farther from the mean than the minimum values. This suggests that the data is skewed to the right.\n",
    "- `number_reviews` also appears to be highly dispersed and highly positively skewed.\n",
    "- `reviews_rating` appears to be less dispersed and negatively skewed.\n",
    "- `number_images` might have more of a normal distribution.\n",
    "- `percent_discount` appears to be less dispersed and positively skewed (but less so than other columns)."
   ]
  },
  {
   "cell_type": "markdown",
   "id": "8eafa5a4",
   "metadata": {},
   "source": [
    "We can also describe object columns to get the count, number of unique values, most common value, and frequency of the most common value."
   ]
  },
  {
   "cell_type": "code",
   "execution_count": 54,
   "id": "ed56e237",
   "metadata": {},
   "outputs": [
    {
     "data": {
      "text/html": [
       "<div>\n",
       "<style scoped>\n",
       "    .dataframe tbody tr th:only-of-type {\n",
       "        vertical-align: middle;\n",
       "    }\n",
       "\n",
       "    .dataframe tbody tr th {\n",
       "        vertical-align: top;\n",
       "    }\n",
       "\n",
       "    .dataframe thead th {\n",
       "        text-align: right;\n",
       "    }\n",
       "</style>\n",
       "<table border=\"1\" class=\"dataframe\">\n",
       "  <thead>\n",
       "    <tr style=\"text-align: right;\">\n",
       "      <th></th>\n",
       "      <th>product_name</th>\n",
       "      <th>brand_name</th>\n",
       "      <th>gender_category</th>\n",
       "    </tr>\n",
       "  </thead>\n",
       "  <tbody>\n",
       "    <tr>\n",
       "      <th>count</th>\n",
       "      <td>6153</td>\n",
       "      <td>6153</td>\n",
       "      <td>6153</td>\n",
       "    </tr>\n",
       "    <tr>\n",
       "      <th>unique</th>\n",
       "      <td>5943</td>\n",
       "      <td>402</td>\n",
       "      <td>4</td>\n",
       "    </tr>\n",
       "    <tr>\n",
       "      <th>top</th>\n",
       "      <td>Dare Zip Bra</td>\n",
       "      <td>prAna</td>\n",
       "      <td>Women's</td>\n",
       "    </tr>\n",
       "    <tr>\n",
       "      <th>freq</th>\n",
       "      <td>3</td>\n",
       "      <td>308</td>\n",
       "      <td>2557</td>\n",
       "    </tr>\n",
       "  </tbody>\n",
       "</table>\n",
       "</div>"
      ],
      "text/plain": [
       "        product_name brand_name gender_category\n",
       "count           6153       6153            6153\n",
       "unique          5943        402               4\n",
       "top     Dare Zip Bra      prAna         Women's\n",
       "freq               3        308            2557"
      ]
     },
     "execution_count": 54,
     "metadata": {},
     "output_type": "execute_result"
    }
   ],
   "source": [
    "# Describe the oject columns\n",
    "deals_data.describe(include='object')"
   ]
  },
  {
   "cell_type": "markdown",
   "id": "cae40c6b",
   "metadata": {},
   "source": [
    "## Visualize and analyze the Data"
   ]
  },
  {
   "cell_type": "markdown",
   "id": "7c6087ec",
   "metadata": {},
   "source": [
    "Now let's visualize the data to get a better sense of the distributions. We will use the `seaborn` and `matplotlib` libraries."
   ]
  },
  {
   "cell_type": "markdown",
   "id": "a1d8a463",
   "metadata": {},
   "source": [
    "### Percent discounts by gender category"
   ]
  },
  {
   "cell_type": "code",
   "execution_count": 55,
   "id": "a195ef9f",
   "metadata": {
    "scrolled": false
   },
   "outputs": [
    {
     "data": {
      "text/plain": [
       "<seaborn.axisgrid.FacetGrid at 0x7ff6f5a59880>"
      ]
     },
     "execution_count": 55,
     "metadata": {},
     "output_type": "execute_result"
    },
    {
     "data": {
      "image/png": "[encoded data removed]",
      "text/plain": [
       "<Figure size 452.5x360 with 1 Axes>"
      ]
     },
     "metadata": {
      "needs_background": "light"
     },
     "output_type": "display_data"
    }
   ],
   "source": [
    "# Kernel density estimation of percent discount by gender category\n",
    "sns.displot(data=deals_data, \n",
    "            x='percent_discount', \n",
    "#            col='gender_category',\n",
    "            hue='gender_category', \n",
    "            kind='kde', \n",
    "            fill=True)"
   ]
  },
  {
   "cell_type": "markdown",
   "id": "efaddd3c",
   "metadata": {},
   "source": [
    "These are some funky distributions! It looks like Men's, Women's, and Unisex products follow a similar discounting strategy, with many products 25% and 50% off. Kids' products appear to have a more uniform discount percentage distribution.\n",
    "\n",
    "Let's make some histograms to get more detail."
   ]
  },
  {
   "cell_type": "code",
   "execution_count": 56,
   "id": "8438cc49",
   "metadata": {},
   "outputs": [
    {
     "data": {
      "text/plain": [
       "<seaborn.axisgrid.FacetGrid at 0x7ff68638b280>"
      ]
     },
     "execution_count": 56,
     "metadata": {},
     "output_type": "execute_result"
    },
    {
     "data": {
      "image/png": "[encoded data removed]",
      "text/plain": [
       "<Figure size 1532.5x360 with 4 Axes>"
      ]
     },
     "metadata": {
      "needs_background": "light"
     },
     "output_type": "display_data"
    }
   ],
   "source": [
    "# Kernel density estimation of percent discount by gender category\n",
    "sns.displot(data=deals_data, \n",
    "            x='percent_discount', \n",
    "            col='gender_category',\n",
    "            hue='gender_category', \n",
    "#            kind='kde', \n",
    "            fill=True)"
   ]
  },
  {
   "cell_type": "markdown",
   "id": "8d4ca579",
   "metadata": {},
   "source": [
    "We see that several discount percentages are more common than others:\n",
    "- 25%, 30%, 40%, 50%, 60%, 75% (especially 25%, 30%, and 50%)"
   ]
  },
  {
   "cell_type": "markdown",
   "id": "c4b8fea3",
   "metadata": {},
   "source": [
    "Let's do a statistical test to see whether the groups originate from the same distribution. We will use the Kruskal-Wallis H test, a non-parametric alternative to ANOVA, because our distributions are clearly not normally distributed. Read more here:\n",
    "- https://en.wikipedia.org/wiki/Kruskal–Wallis_one-way_analysis_of_variance\n",
    "- https://docs.scipy.org/doc/scipy/reference/generated/scipy.stats.kruskal.html"
   ]
  },
  {
   "cell_type": "code",
   "execution_count": 57,
   "id": "857778dc",
   "metadata": {},
   "outputs": [],
   "source": [
    "# Import the stats module and the posthocs package\n",
    "from scipy import stats\n",
    "import scikit_posthocs as sp"
   ]
  },
  {
   "cell_type": "code",
   "execution_count": 58,
   "id": "9dea1c44",
   "metadata": {},
   "outputs": [],
   "source": [
    "# Create groups from the categories\n",
    "mens = deals_data[deals_data.gender_category==\"Men's\"]['percent_discount']\n",
    "womens = deals_data[deals_data.gender_category==\"Women's\"]['percent_discount']\n",
    "unisex = deals_data[deals_data.gender_category==\"Unisex\"]['percent_discount']\n",
    "kids = deals_data[deals_data.gender_category==\"Kids'\"]['percent_discount']"
   ]
  },
  {
   "cell_type": "code",
   "execution_count": 59,
   "id": "93e80133",
   "metadata": {},
   "outputs": [
    {
     "data": {
      "text/plain": [
       "KruskalResult(statistic=145.53518674834152, pvalue=2.419991035017073e-31)"
      ]
     },
     "execution_count": 59,
     "metadata": {},
     "output_type": "execute_result"
    }
   ],
   "source": [
    "# Kruskal-wallis test\n",
    "stats.kruskal(mens,womens,unisex,kids)"
   ]
  },
  {
   "cell_type": "markdown",
   "id": "ff407284",
   "metadata": {},
   "source": [
    "Our null hypothesis was that the groups all come from the same distribution (not that their medians are equal, since we are not assuming an equally scaled and shaped distribution across groups). At an alpha level of 0.05, we reject the null hypothesis. This does not tell us which of the groups differ, so we must do a post hoc comparison. We will use the Dunn test. Read more here:\n",
    "- https://en.wikipedia.org/wiki/Dunnett%27s_test\n",
    "- https://scikit-posthocs.readthedocs.io/en/latest/generated/scikit_posthocs.posthoc_dunn/"
   ]
  },
  {
   "cell_type": "code",
   "execution_count": 60,
   "id": "d495e775",
   "metadata": {},
   "outputs": [
    {
     "data": {
      "text/html": [
       "<div>\n",
       "<style scoped>\n",
       "    .dataframe tbody tr th:only-of-type {\n",
       "        vertical-align: middle;\n",
       "    }\n",
       "\n",
       "    .dataframe tbody tr th {\n",
       "        vertical-align: top;\n",
       "    }\n",
       "\n",
       "    .dataframe thead th {\n",
       "        text-align: right;\n",
       "    }\n",
       "</style>\n",
       "<table border=\"1\" class=\"dataframe\">\n",
       "  <thead>\n",
       "    <tr style=\"text-align: right;\">\n",
       "      <th></th>\n",
       "      <th>Kids'</th>\n",
       "      <th>Men's</th>\n",
       "      <th>Unisex</th>\n",
       "      <th>Women's</th>\n",
       "    </tr>\n",
       "  </thead>\n",
       "  <tbody>\n",
       "    <tr>\n",
       "      <th>Kids'</th>\n",
       "      <td>False</td>\n",
       "      <td>True</td>\n",
       "      <td>True</td>\n",
       "      <td>False</td>\n",
       "    </tr>\n",
       "    <tr>\n",
       "      <th>Men's</th>\n",
       "      <td>True</td>\n",
       "      <td>False</td>\n",
       "      <td>False</td>\n",
       "      <td>True</td>\n",
       "    </tr>\n",
       "    <tr>\n",
       "      <th>Unisex</th>\n",
       "      <td>True</td>\n",
       "      <td>False</td>\n",
       "      <td>False</td>\n",
       "      <td>True</td>\n",
       "    </tr>\n",
       "    <tr>\n",
       "      <th>Women's</th>\n",
       "      <td>False</td>\n",
       "      <td>True</td>\n",
       "      <td>True</td>\n",
       "      <td>False</td>\n",
       "    </tr>\n",
       "  </tbody>\n",
       "</table>\n",
       "</div>"
      ],
      "text/plain": [
       "         Kids'  Men's  Unisex  Women's\n",
       "Kids'    False   True    True    False\n",
       "Men's     True  False   False     True\n",
       "Unisex    True  False   False     True\n",
       "Women's  False   True    True    False"
      ]
     },
     "execution_count": 60,
     "metadata": {},
     "output_type": "execute_result"
    }
   ],
   "source": [
    "# Dunn test with bonferroni p-adjustment for multiple comparisons\n",
    "sp.posthoc_dunn(deals_data,val_col='percent_discount',group_col='gender_category',p_adjust = 'bonferroni') < 0.05"
   ]
  },
  {
   "cell_type": "markdown",
   "id": "a8a17d90",
   "metadata": {},
   "source": [
    "At an alpha level of 0.05, every comparison is significant except for Women's-Kids' and Men's-Unisex. We reject the null hypothesis that there is no difference between groups except for the Women's-Kids' and Men's-Unisex comparisons. Although the distributions look different, we cannot conclude that they do not come from the same distribution."
   ]
  },
  {
   "cell_type": "code",
   "execution_count": 61,
   "id": "839ceb99",
   "metadata": {},
   "outputs": [
    {
     "data": {
      "text/html": [
       "<div>\n",
       "<style scoped>\n",
       "    .dataframe tbody tr th:only-of-type {\n",
       "        vertical-align: middle;\n",
       "    }\n",
       "\n",
       "    .dataframe tbody tr th {\n",
       "        vertical-align: top;\n",
       "    }\n",
       "\n",
       "    .dataframe thead th {\n",
       "        text-align: right;\n",
       "    }\n",
       "</style>\n",
       "<table border=\"1\" class=\"dataframe\">\n",
       "  <thead>\n",
       "    <tr style=\"text-align: right;\">\n",
       "      <th></th>\n",
       "      <th>count</th>\n",
       "      <th>mean</th>\n",
       "      <th>std</th>\n",
       "      <th>min</th>\n",
       "      <th>25%</th>\n",
       "      <th>50%</th>\n",
       "      <th>75%</th>\n",
       "      <th>max</th>\n",
       "    </tr>\n",
       "    <tr>\n",
       "      <th>gender_category</th>\n",
       "      <th></th>\n",
       "      <th></th>\n",
       "      <th></th>\n",
       "      <th></th>\n",
       "      <th></th>\n",
       "      <th></th>\n",
       "      <th></th>\n",
       "      <th></th>\n",
       "    </tr>\n",
       "  </thead>\n",
       "  <tbody>\n",
       "    <tr>\n",
       "      <th>Kids'</th>\n",
       "      <td>617.0</td>\n",
       "      <td>40.808398</td>\n",
       "      <td>16.549836</td>\n",
       "      <td>10.270000</td>\n",
       "      <td>25.750000</td>\n",
       "      <td>37.080000</td>\n",
       "      <td>51.488889</td>\n",
       "      <td>76.327586</td>\n",
       "    </tr>\n",
       "    <tr>\n",
       "      <th>Men's</th>\n",
       "      <td>1574.0</td>\n",
       "      <td>35.682268</td>\n",
       "      <td>13.573773</td>\n",
       "      <td>7.746154</td>\n",
       "      <td>25.088125</td>\n",
       "      <td>30.188283</td>\n",
       "      <td>50.058333</td>\n",
       "      <td>76.624161</td>\n",
       "    </tr>\n",
       "    <tr>\n",
       "      <th>Unisex</th>\n",
       "      <td>1405.0</td>\n",
       "      <td>33.906523</td>\n",
       "      <td>12.707747</td>\n",
       "      <td>-11.235206</td>\n",
       "      <td>25.232616</td>\n",
       "      <td>30.087500</td>\n",
       "      <td>40.808081</td>\n",
       "      <td>88.458973</td>\n",
       "    </tr>\n",
       "    <tr>\n",
       "      <th>Women's</th>\n",
       "      <td>2557.0</td>\n",
       "      <td>38.964824</td>\n",
       "      <td>14.339590</td>\n",
       "      <td>5.580878</td>\n",
       "      <td>26.031818</td>\n",
       "      <td>33.740622</td>\n",
       "      <td>50.290290</td>\n",
       "      <td>80.078652</td>\n",
       "    </tr>\n",
       "  </tbody>\n",
       "</table>\n",
       "</div>"
      ],
      "text/plain": [
       "                  count       mean        std        min        25%  \\\n",
       "gender_category                                                       \n",
       "Kids'             617.0  40.808398  16.549836  10.270000  25.750000   \n",
       "Men's            1574.0  35.682268  13.573773   7.746154  25.088125   \n",
       "Unisex           1405.0  33.906523  12.707747 -11.235206  25.232616   \n",
       "Women's          2557.0  38.964824  14.339590   5.580878  26.031818   \n",
       "\n",
       "                       50%        75%        max  \n",
       "gender_category                                   \n",
       "Kids'            37.080000  51.488889  76.327586  \n",
       "Men's            30.188283  50.058333  76.624161  \n",
       "Unisex           30.087500  40.808081  88.458973  \n",
       "Women's          33.740622  50.290290  80.078652  "
      ]
     },
     "execution_count": 61,
     "metadata": {},
     "output_type": "execute_result"
    }
   ],
   "source": [
    "# Describe percent discount by groups\n",
    "deals_data.groupby('gender_category').percent_discount.describe()"
   ]
  },
  {
   "cell_type": "markdown",
   "id": "0bf1d1ac",
   "metadata": {},
   "source": [
    "This suggests that REI uses a different discounting strategy for men's and women's products (at least as of October, 2022). Huh!"
   ]
  },
  {
   "cell_type": "markdown",
   "id": "18d16be5",
   "metadata": {},
   "source": [
    "### Sale prices by gender category"
   ]
  },
  {
   "cell_type": "markdown",
   "id": "697d48d8",
   "metadata": {},
   "source": [
    "Let's take a look at the distribution of sale prices by gender category. We limit the x-axis for better visibility because there is strong positive skew."
   ]
  },
  {
   "cell_type": "code",
   "execution_count": 62,
   "id": "afa24c0f",
   "metadata": {},
   "outputs": [
    {
     "data": {
      "text/plain": [
       "<seaborn.axisgrid.FacetGrid at 0x7ff6a7788640>"
      ]
     },
     "execution_count": 62,
     "metadata": {},
     "output_type": "execute_result"
    },
    {
     "data": {
      "image/png": "[encoded data removed]",
      "text/plain": [
       "<Figure size 1532.5x360 with 4 Axes>"
      ]
     },
     "metadata": {
      "needs_background": "light"
     },
     "output_type": "display_data"
    }
   ],
   "source": [
    "# Histogram of sale prices by gender category\n",
    "sale_prices = sns.displot(data=deals_data, \n",
    "                          x='sale_price', \n",
    "                          col='gender_category',\n",
    "                          hue='gender_category', \n",
    "#                          kind='kde', \n",
    "                          fill=True)\n",
    "\n",
    "sale_prices.set(xlim=(0,800))"
   ]
  },
  {
   "cell_type": "markdown",
   "id": "dffbe3d7",
   "metadata": {},
   "source": [
    "It looks like our observations were correct! The data is highly positively skewed with strong dispersion."
   ]
  },
  {
   "cell_type": "code",
   "execution_count": 63,
   "id": "2ad7f27c",
   "metadata": {},
   "outputs": [],
   "source": [
    "# Create groups from the categories\n",
    "mens = deals_data[deals_data.gender_category==\"Men's\"]['sale_price']\n",
    "womens = deals_data[deals_data.gender_category==\"Women's\"]['sale_price']\n",
    "unisex = deals_data[deals_data.gender_category==\"Unisex\"]['sale_price']\n",
    "kids = deals_data[deals_data.gender_category==\"Kids'\"]['sale_price']"
   ]
  },
  {
   "cell_type": "markdown",
   "id": "31412b0e",
   "metadata": {},
   "source": [
    "We will repeat our statistical tests to see if there is a difference between groups."
   ]
  },
  {
   "cell_type": "code",
   "execution_count": 64,
   "id": "aecac9f4",
   "metadata": {},
   "outputs": [
    {
     "data": {
      "text/plain": [
       "KruskalResult(statistic=338.69432439430364, pvalue=4.183912396998193e-73)"
      ]
     },
     "execution_count": 64,
     "metadata": {},
     "output_type": "execute_result"
    }
   ],
   "source": [
    "# Kruskal-wallis test\n",
    "stats.kruskal(mens,womens,unisex,kids)"
   ]
  },
  {
   "cell_type": "code",
   "execution_count": 65,
   "id": "e892fe0d",
   "metadata": {},
   "outputs": [
    {
     "data": {
      "text/html": [
       "<div>\n",
       "<style scoped>\n",
       "    .dataframe tbody tr th:only-of-type {\n",
       "        vertical-align: middle;\n",
       "    }\n",
       "\n",
       "    .dataframe tbody tr th {\n",
       "        vertical-align: top;\n",
       "    }\n",
       "\n",
       "    .dataframe thead th {\n",
       "        text-align: right;\n",
       "    }\n",
       "</style>\n",
       "<table border=\"1\" class=\"dataframe\">\n",
       "  <thead>\n",
       "    <tr style=\"text-align: right;\">\n",
       "      <th></th>\n",
       "      <th>Kids'</th>\n",
       "      <th>Men's</th>\n",
       "      <th>Unisex</th>\n",
       "      <th>Women's</th>\n",
       "    </tr>\n",
       "  </thead>\n",
       "  <tbody>\n",
       "    <tr>\n",
       "      <th>Kids'</th>\n",
       "      <td>False</td>\n",
       "      <td>True</td>\n",
       "      <td>True</td>\n",
       "      <td>True</td>\n",
       "    </tr>\n",
       "    <tr>\n",
       "      <th>Men's</th>\n",
       "      <td>True</td>\n",
       "      <td>False</td>\n",
       "      <td>True</td>\n",
       "      <td>True</td>\n",
       "    </tr>\n",
       "    <tr>\n",
       "      <th>Unisex</th>\n",
       "      <td>True</td>\n",
       "      <td>True</td>\n",
       "      <td>False</td>\n",
       "      <td>False</td>\n",
       "    </tr>\n",
       "    <tr>\n",
       "      <th>Women's</th>\n",
       "      <td>True</td>\n",
       "      <td>True</td>\n",
       "      <td>False</td>\n",
       "      <td>False</td>\n",
       "    </tr>\n",
       "  </tbody>\n",
       "</table>\n",
       "</div>"
      ],
      "text/plain": [
       "         Kids'  Men's  Unisex  Women's\n",
       "Kids'    False   True    True     True\n",
       "Men's     True  False    True     True\n",
       "Unisex    True   True   False    False\n",
       "Women's   True   True   False    False"
      ]
     },
     "execution_count": 65,
     "metadata": {},
     "output_type": "execute_result"
    }
   ],
   "source": [
    "# Dunn test with bonferroni p-adjustment for multiple comparisons\n",
    "sp.posthoc_dunn(deals_data,val_col='sale_price',group_col='gender_category',p_adjust = 'bonferroni') < 0.05"
   ]
  },
  {
   "cell_type": "markdown",
   "id": "323b1118",
   "metadata": {},
   "source": [
    "We find a significant difference (alpha = 0.05) between every group except Women's and Unisex. Again, it seems like REI is pricing men's and women's clothing differently."
   ]
  },
  {
   "cell_type": "code",
   "execution_count": 66,
   "id": "b8475f5b",
   "metadata": {},
   "outputs": [
    {
     "data": {
      "text/html": [
       "<div>\n",
       "<style scoped>\n",
       "    .dataframe tbody tr th:only-of-type {\n",
       "        vertical-align: middle;\n",
       "    }\n",
       "\n",
       "    .dataframe tbody tr th {\n",
       "        vertical-align: top;\n",
       "    }\n",
       "\n",
       "    .dataframe thead th {\n",
       "        text-align: right;\n",
       "    }\n",
       "</style>\n",
       "<table border=\"1\" class=\"dataframe\">\n",
       "  <thead>\n",
       "    <tr style=\"text-align: right;\">\n",
       "      <th></th>\n",
       "      <th>count</th>\n",
       "      <th>mean</th>\n",
       "      <th>std</th>\n",
       "      <th>min</th>\n",
       "      <th>25%</th>\n",
       "      <th>50%</th>\n",
       "      <th>75%</th>\n",
       "      <th>max</th>\n",
       "    </tr>\n",
       "    <tr>\n",
       "      <th>gender_category</th>\n",
       "      <th></th>\n",
       "      <th></th>\n",
       "      <th></th>\n",
       "      <th></th>\n",
       "      <th></th>\n",
       "      <th></th>\n",
       "      <th></th>\n",
       "      <th></th>\n",
       "    </tr>\n",
       "  </thead>\n",
       "  <tbody>\n",
       "    <tr>\n",
       "      <th>Kids'</th>\n",
       "      <td>617.0</td>\n",
       "      <td>39.149838</td>\n",
       "      <td>34.088835</td>\n",
       "      <td>5.73</td>\n",
       "      <td>16.73</td>\n",
       "      <td>29.73</td>\n",
       "      <td>49.73</td>\n",
       "      <td>279.93</td>\n",
       "    </tr>\n",
       "    <tr>\n",
       "      <th>Men's</th>\n",
       "      <td>1574.0</td>\n",
       "      <td>81.113837</td>\n",
       "      <td>77.100304</td>\n",
       "      <td>4.83</td>\n",
       "      <td>34.93</td>\n",
       "      <td>59.73</td>\n",
       "      <td>99.73</td>\n",
       "      <td>839.93</td>\n",
       "    </tr>\n",
       "    <tr>\n",
       "      <th>Unisex</th>\n",
       "      <td>1405.0</td>\n",
       "      <td>113.686996</td>\n",
       "      <td>292.071702</td>\n",
       "      <td>1.73</td>\n",
       "      <td>24.83</td>\n",
       "      <td>51.93</td>\n",
       "      <td>104.73</td>\n",
       "      <td>5439.93</td>\n",
       "    </tr>\n",
       "    <tr>\n",
       "      <th>Women's</th>\n",
       "      <td>2557.0</td>\n",
       "      <td>72.777939</td>\n",
       "      <td>75.153675</td>\n",
       "      <td>3.83</td>\n",
       "      <td>32.93</td>\n",
       "      <td>49.93</td>\n",
       "      <td>83.73</td>\n",
       "      <td>839.93</td>\n",
       "    </tr>\n",
       "  </tbody>\n",
       "</table>\n",
       "</div>"
      ],
      "text/plain": [
       "                  count        mean         std   min    25%    50%     75%  \\\n",
       "gender_category                                                               \n",
       "Kids'             617.0   39.149838   34.088835  5.73  16.73  29.73   49.73   \n",
       "Men's            1574.0   81.113837   77.100304  4.83  34.93  59.73   99.73   \n",
       "Unisex           1405.0  113.686996  292.071702  1.73  24.83  51.93  104.73   \n",
       "Women's          2557.0   72.777939   75.153675  3.83  32.93  49.93   83.73   \n",
       "\n",
       "                     max  \n",
       "gender_category           \n",
       "Kids'             279.93  \n",
       "Men's             839.93  \n",
       "Unisex           5439.93  \n",
       "Women's           839.93  "
      ]
     },
     "execution_count": 66,
     "metadata": {},
     "output_type": "execute_result"
    }
   ],
   "source": [
    "# Describe percent discount by groups\n",
    "deals_data.groupby('gender_category').sale_price.describe()"
   ]
  },
  {
   "cell_type": "markdown",
   "id": "b55b1e75",
   "metadata": {},
   "source": [
    "## Some more plots!"
   ]
  },
  {
   "cell_type": "markdown",
   "id": "6cbcd3f9",
   "metadata": {},
   "source": [
    "We have learned that REI likely uses different pricing and discounting strategies for men's and women's products. We will now visualize some of the other data for fun. We could do additional statistical tests, but we will just stick with visualizations for now."
   ]
  },
  {
   "cell_type": "code",
   "execution_count": 67,
   "id": "c7cd5800",
   "metadata": {},
   "outputs": [],
   "source": [
    "# Define a function to plot distributions with mean/stdev and median/quartiles\n",
    "def my_plot(x):\n",
    "    fig, axes = plt.subplots(ncols=2, figsize=(12, 4))\n",
    "    for ax in axes:\n",
    "        sns.kdeplot(x, shade=False, color='green', ax=ax)\n",
    "        kdeline = ax.lines[0]\n",
    "        xs = kdeline.get_xdata()\n",
    "        ys = kdeline.get_ydata()\n",
    "        if ax == axes[0]:\n",
    "            middle = x.mean()\n",
    "            sdev = x.std()\n",
    "            left = middle - sdev\n",
    "            right = middle + sdev\n",
    "            ax.set_title('Showing mean and stdev')\n",
    "        else:\n",
    "            left, middle, right = np.percentile(x, [25, 50, 75])\n",
    "            ax.set_title('Showing median and quartiles')\n",
    "        ax.vlines(middle, 0, np.interp(middle, xs, ys), color='green', ls=':')\n",
    "        ax.fill_between(xs, 0, ys, facecolor='green', alpha=0.2)\n",
    "        ax.fill_between(xs, 0, ys, where=(left <= xs) & (xs <= right), interpolate=True, facecolor='green', alpha=0.2)"
   ]
  },
  {
   "cell_type": "markdown",
   "id": "d075dbaf",
   "metadata": {},
   "source": [
    "### Reviews and discount percentage"
   ]
  },
  {
   "cell_type": "markdown",
   "id": "d1811117",
   "metadata": {},
   "source": [
    "One of our initial questions was whether reviews are related to product discounts. Let's create a scatter plot with a simple linear regression line."
   ]
  },
  {
   "cell_type": "code",
   "execution_count": 68,
   "id": "90d2fc7d",
   "metadata": {},
   "outputs": [
    {
     "data": {
      "text/plain": [
       "<seaborn.axisgrid.FacetGrid at 0x7ff6a79f3d30>"
      ]
     },
     "execution_count": 68,
     "metadata": {},
     "output_type": "execute_result"
    },
    {
     "data": {
      "image/png": "[encoded data removed]",
      "text/plain": [
       "<Figure size 360x360 with 1 Axes>"
      ]
     },
     "metadata": {
      "needs_background": "light"
     },
     "output_type": "display_data"
    }
   ],
   "source": [
    "# Reviews and discount percentage\n",
    "sns.lmplot(data=deals_data,x='reviews_rating',y='percent_discount')"
   ]
  },
  {
   "cell_type": "markdown",
   "id": "437a1b41",
   "metadata": {},
   "source": [
    "It appears that there is a slight negative relationship between review rating and discount percentage."
   ]
  },
  {
   "cell_type": "code",
   "execution_count": 69,
   "id": "832451fb",
   "metadata": {},
   "outputs": [
    {
     "data": {
      "text/plain": [
       "<seaborn.axisgrid.FacetGrid at 0x7ff686a7b370>"
      ]
     },
     "execution_count": 69,
     "metadata": {},
     "output_type": "execute_result"
    },
    {
     "data": {
      "image/png": "[encoded data removed]",
      "text/plain": [
       "<Figure size 1440x360 with 4 Axes>"
      ]
     },
     "metadata": {
      "needs_background": "light"
     },
     "output_type": "display_data"
    }
   ],
   "source": [
    "sns.lmplot(data=deals_data,x='reviews_rating',y='percent_discount',hue='gender_category',col='gender_category')"
   ]
  },
  {
   "cell_type": "markdown",
   "id": "7c53b9c4",
   "metadata": {},
   "source": [
    "### Number of carousel images"
   ]
  },
  {
   "cell_type": "markdown",
   "id": "54a7b6e9",
   "metadata": {},
   "source": [
    "Is the number of carousel images displayed for each product related to its percent discount or sale price?"
   ]
  },
  {
   "cell_type": "code",
   "execution_count": 70,
   "id": "6a16246e",
   "metadata": {},
   "outputs": [
    {
     "data": {
      "text/plain": [
       "<seaborn.axisgrid.FacetGrid at 0x7ff686b46e50>"
      ]
     },
     "execution_count": 70,
     "metadata": {},
     "output_type": "execute_result"
    },
    {
     "data": {
      "image/png": "[encoded data removed]",
      "text/plain": [
       "<Figure size 360x360 with 1 Axes>"
      ]
     },
     "metadata": {
      "needs_background": "light"
     },
     "output_type": "display_data"
    }
   ],
   "source": [
    "# Number of images and percent discount\n",
    "sns.lmplot(data=deals_data,x='number_images',y='percent_discount')"
   ]
  },
  {
   "cell_type": "markdown",
   "id": "dd381a9c",
   "metadata": {},
   "source": [
    "There does not appear to be a clear relationship between the number of carousel images and discount percentage."
   ]
  },
  {
   "cell_type": "code",
   "execution_count": 71,
   "id": "cfecb15c",
   "metadata": {},
   "outputs": [
    {
     "data": {
      "text/plain": [
       "<seaborn.axisgrid.FacetGrid at 0x7ff686b46190>"
      ]
     },
     "execution_count": 71,
     "metadata": {},
     "output_type": "execute_result"
    },
    {
     "data": {
      "image/png": "[encoded data removed]",
      "text/plain": [
       "<Figure size 360x360 with 1 Axes>"
      ]
     },
     "metadata": {
      "needs_background": "light"
     },
     "output_type": "display_data"
    }
   ],
   "source": [
    "# Number of images and sale price\n",
    "sns.lmplot(data=deals_data,x='number_images',y='sale_price')"
   ]
  },
  {
   "cell_type": "markdown",
   "id": "0b183efb",
   "metadata": {},
   "source": [
    "It appears that there is a small positive relationship between the number of carousel images and sale price. Perhaps companies with higher-priced products care more about showing images of those products."
   ]
  },
  {
   "cell_type": "markdown",
   "id": "b058b073",
   "metadata": {},
   "source": [
    "### Brand name and discount percentage"
   ]
  },
  {
   "cell_type": "markdown",
   "id": "bcc091d6",
   "metadata": {},
   "source": [
    "We were also curious if brand name is related to discount percentage. Let's filter to the nine brands with the most discounted items to make our job easier."
   ]
  },
  {
   "cell_type": "code",
   "execution_count": 72,
   "id": "cf18d6f1",
   "metadata": {},
   "outputs": [],
   "source": [
    "# Create a new dataframe with the top nine brands\n",
    "top_brands = deals_data.brand_name.value_counts().head(9).index\n",
    "brands_mask = deals_data.brand_name.isin(top_brands)\n",
    "top_brands_data = deals_data.loc[brands_mask,:]"
   ]
  },
  {
   "cell_type": "code",
   "execution_count": 73,
   "id": "5bce2e24",
   "metadata": {},
   "outputs": [
    {
     "data": {
      "image/png": "[encoded data removed]",
      "text/plain": [
       "<Figure size 864x288 with 2 Axes>"
      ]
     },
     "metadata": {
      "needs_background": "light"
     },
     "output_type": "display_data"
    }
   ],
   "source": [
    "my_plot(top_brands_data.percent_discount)"
   ]
  },
  {
   "cell_type": "code",
   "execution_count": 74,
   "id": "b1ad18c9",
   "metadata": {
    "scrolled": false
   },
   "outputs": [
    {
     "data": {
      "text/plain": [
       "<seaborn.axisgrid.FacetGrid at 0x7ff69cc48d60>"
      ]
     },
     "execution_count": 74,
     "metadata": {},
     "output_type": "execute_result"
    },
    {
     "data": {
      "image/png": "[encoded data removed]",
      "text/plain": [
       "<Figure size 1210.12x1080 with 9 Axes>"
      ]
     },
     "metadata": {
      "needs_background": "light"
     },
     "output_type": "display_data"
    }
   ],
   "source": [
    "# Brand name and percent discount\n",
    "sns.displot(data=top_brands_data, \n",
    "            x='percent_discount', \n",
    "            hue='brand_name', \n",
    "            col='brand_name',\n",
    "            col_wrap=3,\n",
    "            kind='kde', \n",
    "            fill=True)"
   ]
  },
  {
   "cell_type": "markdown",
   "id": "ba64de03",
   "metadata": {},
   "source": [
    "Interesting! The top brands seem to have different discount percentage distributions (although most of them have peaks around 25% and 50%). Perhaps each brand communicates their own strategy to REI."
   ]
  },
  {
   "cell_type": "code",
   "execution_count": 75,
   "id": "49465eef",
   "metadata": {},
   "outputs": [
    {
     "data": {
      "text/plain": [
       "<seaborn.axisgrid.FacetGrid at 0x7ff686b2d9a0>"
      ]
     },
     "execution_count": 75,
     "metadata": {},
     "output_type": "execute_result"
    },
    {
     "data": {
      "image/png": "[encoded data removed]",
      "text/plain": [
       "<Figure size 1210.12x1080 with 9 Axes>"
      ]
     },
     "metadata": {
      "needs_background": "light"
     },
     "output_type": "display_data"
    }
   ],
   "source": [
    "# Brand name and sale price\n",
    "sns.displot(data=top_brands_data, \n",
    "            x='sale_price', \n",
    "            hue='brand_name', \n",
    "            col='brand_name',\n",
    "            col_wrap=3,\n",
    "            kind='kde', \n",
    "            fill=True)"
   ]
  },
  {
   "cell_type": "markdown",
   "id": "f8277272",
   "metadata": {},
   "source": [
    "Unsurprisingly, the distribution of sale prices from different brands is very variable."
   ]
  },
  {
   "cell_type": "code",
   "execution_count": 76,
   "id": "675daba7",
   "metadata": {
    "scrolled": false
   },
   "outputs": [
    {
     "data": {
      "text/plain": [
       "<seaborn.axisgrid.FacetGrid at 0x7ff686be8fd0>"
      ]
     },
     "execution_count": 76,
     "metadata": {},
     "output_type": "execute_result"
    },
    {
     "data": {
      "image/png": "[encoded data removed]",
      "text/plain": [
       "<Figure size 1210.12x1080 with 9 Axes>"
      ]
     },
     "metadata": {
      "needs_background": "light"
     },
     "output_type": "display_data"
    }
   ],
   "source": [
    "# Brand name and review rating\n",
    "sns.displot(data=top_brands_data, \n",
    "            x='reviews_rating', \n",
    "            hue='brand_name', \n",
    "            col='brand_name',\n",
    "            col_wrap=3,\n",
    "            kind='kde', \n",
    "            fill=True)"
   ]
  },
  {
   "cell_type": "markdown",
   "id": "2b3c8fcd",
   "metadata": {},
   "source": [
    "Review ratings also vary by brand."
   ]
  },
  {
   "cell_type": "markdown",
   "id": "9cb56808",
   "metadata": {},
   "source": [
    "## Conclusion"
   ]
  },
  {
   "cell_type": "markdown",
   "id": "a1b9ebd2",
   "metadata": {},
   "source": [
    "Awesome! So, what have we learned?\n",
    "\n",
    "We did the following:\n",
    "- Scraped relevant information from https://www.rei.com.\n",
    "- Stored the data in a structured dataframe.\n",
    "- Visualized the data.\n",
    "- Performed some preliminary hypothesis tests."
   ]
  },
  {
   "cell_type": "markdown",
   "id": "4edb4259",
   "metadata": {},
   "source": [
    "What did we find?\n",
    "- REI likely uses different pricing and discounting strategies for products in men's and women's categories.\n",
    "- Products with higher reviews are discounted less on average.\n",
    "- Products tend to be discounted in regular percentages (25%, 30%, 50%), although this varies by brand.\n",
    "- Review ratings and sale prices vary by brand.\n",
    "- The number of carousel images displayed is not clearly related to discount percentage, but it is with sale price."
   ]
  },
  {
   "cell_type": "markdown",
   "id": "fa93b111",
   "metadata": {},
   "source": [
    "Here are some ideas for future analysis:\n",
    "- Expand the scraping process to REI's entire catalogue and compare full-price products to discounted products.\n",
    "- Add product categories to our dataframe.\n",
    "- Investigate which sizes go on sale most."
   ]
  },
  {
   "cell_type": "markdown",
   "id": "a74e752f",
   "metadata": {},
   "source": [
    "And, as promised, what is the second-cheapest Patagonia item to get your mom for her birthday?"
   ]
  },
  {
   "cell_type": "code",
   "execution_count": 77,
   "id": "df8b1085",
   "metadata": {},
   "outputs": [
    {
     "data": {
      "text/html": [
       "<div>\n",
       "<style scoped>\n",
       "    .dataframe tbody tr th:only-of-type {\n",
       "        vertical-align: middle;\n",
       "    }\n",
       "\n",
       "    .dataframe tbody tr th {\n",
       "        vertical-align: top;\n",
       "    }\n",
       "\n",
       "    .dataframe thead th {\n",
       "        text-align: right;\n",
       "    }\n",
       "</style>\n",
       "<table border=\"1\" class=\"dataframe\">\n",
       "  <thead>\n",
       "    <tr style=\"text-align: right;\">\n",
       "      <th></th>\n",
       "      <th>product_name</th>\n",
       "      <th>brand_name</th>\n",
       "      <th>gender_category</th>\n",
       "      <th>sale_price</th>\n",
       "      <th>original_price</th>\n",
       "      <th>number_reviews</th>\n",
       "      <th>reviews_rating</th>\n",
       "      <th>number_images</th>\n",
       "      <th>percent_discount</th>\n",
       "    </tr>\n",
       "  </thead>\n",
       "  <tbody>\n",
       "    <tr>\n",
       "      <th>50</th>\n",
       "      <td>Capilene Cool Daily Graphic Shirt - Women's</td>\n",
       "      <td>Patagonia</td>\n",
       "      <td>Women's</td>\n",
       "      <td>21.83</td>\n",
       "      <td>49.0</td>\n",
       "      <td>36</td>\n",
       "      <td>4.8</td>\n",
       "      <td>5</td>\n",
       "      <td>55.44898</td>\n",
       "    </tr>\n",
       "  </tbody>\n",
       "</table>\n",
       "</div>"
      ],
      "text/plain": [
       "                                   product_name brand_name gender_category  \\\n",
       "50  Capilene Cool Daily Graphic Shirt - Women's  Patagonia         Women's   \n",
       "\n",
       "    sale_price  original_price  number_reviews  reviews_rating  number_images  \\\n",
       "50       21.83            49.0              36             4.8              5   \n",
       "\n",
       "    percent_discount  \n",
       "50          55.44898  "
      ]
     },
     "execution_count": 77,
     "metadata": {},
     "output_type": "execute_result"
    }
   ],
   "source": [
    "deals_data[(deals_data.brand_name==\"Patagonia\") & (deals_data.gender_category==\"Women's\")].sort_values('sale_price').iloc[[1]]"
   ]
  },
  {
   "cell_type": "markdown",
   "id": "dfa3df17",
   "metadata": {},
   "source": [
    "<span style=\"color:red\">DEALS DEALS DEALS DEALS DEALS</span>"
   ]
  },
  {
   "cell_type": "markdown",
   "id": "06ec9ead",
   "metadata": {},
   "source": [
    "## More helpful resources"
   ]
  },
  {
   "cell_type": "markdown",
   "id": "998aa4e8",
   "metadata": {},
   "source": [
    "- https://automatetheboringstuff.com\n",
    "- https://pandas.pydata.org/docs/\n",
    "- https://www.crummy.com/software/BeautifulSoup/bs4/doc/\n",
    "- https://seaborn.pydata.org/api.html"
   ]
  }
 ],
 "metadata": {
  "kernelspec": {
   "display_name": "Python 3",
   "language": "python",
   "name": "python3"
  },
  "language_info": {
   "codemirror_mode": {
    "name": "ipython",
    "version": 3
   },
   "file_extension": ".py",
   "mimetype": "text/x-python",
   "name": "python",
   "nbconvert_exporter": "python",
   "pygments_lexer": "ipython3",
   "version": "3.8.8"
  }
 },
 "nbformat": 4,
 "nbformat_minor": 5
}
